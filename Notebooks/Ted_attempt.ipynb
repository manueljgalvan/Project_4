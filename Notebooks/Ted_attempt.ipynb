{
 "cells": [
  {
   "cell_type": "code",
   "execution_count": 16,
   "metadata": {},
   "outputs": [
    {
     "data": {
      "text/html": [
       "<div>\n",
       "<style scoped>\n",
       "    .dataframe tbody tr th:only-of-type {\n",
       "        vertical-align: middle;\n",
       "    }\n",
       "\n",
       "    .dataframe tbody tr th {\n",
       "        vertical-align: top;\n",
       "    }\n",
       "\n",
       "    .dataframe thead th {\n",
       "        text-align: right;\n",
       "    }\n",
       "</style>\n",
       "<table border=\"1\" class=\"dataframe\">\n",
       "  <thead>\n",
       "    <tr style=\"text-align: right;\">\n",
       "      <th></th>\n",
       "      <th>_id</th>\n",
       "      <th>Address</th>\n",
       "      <th>Center Classification Date</th>\n",
       "      <th>City</th>\n",
       "      <th>Classification</th>\n",
       "      <th>Country</th>\n",
       "      <th>Postal Code</th>\n",
       "      <th>Recall Firm</th>\n",
       "      <th>Recall Initiation Date</th>\n",
       "      <th>State</th>\n",
       "      <th>Status</th>\n",
       "      <th>Termination Date</th>\n",
       "      <th>Days To Classify</th>\n",
       "    </tr>\n",
       "  </thead>\n",
       "  <tbody>\n",
       "    <tr>\n",
       "      <th>0</th>\n",
       "      <td>675f4cb2583fb273abfea9c7</td>\n",
       "      <td>2610 Homestead Pl</td>\n",
       "      <td>2020-04-13</td>\n",
       "      <td>Rancho Dominguez</td>\n",
       "      <td>Class III</td>\n",
       "      <td>United States</td>\n",
       "      <td>90220-5610</td>\n",
       "      <td>Organic By Nature, Inc.</td>\n",
       "      <td>2020-02-24</td>\n",
       "      <td>CA</td>\n",
       "      <td>Terminated</td>\n",
       "      <td>2021-02-02</td>\n",
       "      <td>49</td>\n",
       "    </tr>\n",
       "    <tr>\n",
       "      <th>1</th>\n",
       "      <td>675f4cb2583fb273abfea9c8</td>\n",
       "      <td>47 Bridgewater St # 57</td>\n",
       "      <td>2020-04-24</td>\n",
       "      <td>Brooklyn</td>\n",
       "      <td>Class III</td>\n",
       "      <td>United States</td>\n",
       "      <td>11222-3820</td>\n",
       "      <td>Rong Shing Trading NY Inc</td>\n",
       "      <td>2020-04-01</td>\n",
       "      <td>NY</td>\n",
       "      <td>Terminated</td>\n",
       "      <td>2021-03-18</td>\n",
       "      <td>23</td>\n",
       "    </tr>\n",
       "    <tr>\n",
       "      <th>2</th>\n",
       "      <td>675f4cb2583fb273abfea9c9</td>\n",
       "      <td>2959 Salinas Hwy</td>\n",
       "      <td>2022-02-22</td>\n",
       "      <td>Monterey</td>\n",
       "      <td>Class I</td>\n",
       "      <td>United States</td>\n",
       "      <td>93940-6400</td>\n",
       "      <td>Dole Fresh Vegetables Inc</td>\n",
       "      <td>2022-01-06</td>\n",
       "      <td>CA</td>\n",
       "      <td>Terminated</td>\n",
       "      <td>2022-03-22</td>\n",
       "      <td>47</td>\n",
       "    </tr>\n",
       "    <tr>\n",
       "      <th>3</th>\n",
       "      <td>675f4cb2583fb273abfea9ca</td>\n",
       "      <td>262 E Main St</td>\n",
       "      <td>2022-07-19</td>\n",
       "      <td>Lovell</td>\n",
       "      <td>Class II</td>\n",
       "      <td>United States</td>\n",
       "      <td>82431-2102</td>\n",
       "      <td>Queen Bee Gardens, LLC</td>\n",
       "      <td>2022-04-28</td>\n",
       "      <td>WY</td>\n",
       "      <td>Terminated</td>\n",
       "      <td>2023-01-17</td>\n",
       "      <td>82</td>\n",
       "    </tr>\n",
       "    <tr>\n",
       "      <th>4</th>\n",
       "      <td>675f4cb2583fb273abfea9ce</td>\n",
       "      <td>1700 E Stroop Rd</td>\n",
       "      <td>2023-08-02</td>\n",
       "      <td>Dayton</td>\n",
       "      <td>Class II</td>\n",
       "      <td>United States</td>\n",
       "      <td>45429-5040</td>\n",
       "      <td>Cassanos Inc</td>\n",
       "      <td>2023-07-18</td>\n",
       "      <td>OH</td>\n",
       "      <td>Terminated</td>\n",
       "      <td>2023-09-27</td>\n",
       "      <td>15</td>\n",
       "    </tr>\n",
       "  </tbody>\n",
       "</table>\n",
       "</div>"
      ],
      "text/plain": [
       "                        _id                 Address  \\\n",
       "0  675f4cb2583fb273abfea9c7       2610 Homestead Pl   \n",
       "1  675f4cb2583fb273abfea9c8  47 Bridgewater St # 57   \n",
       "2  675f4cb2583fb273abfea9c9        2959 Salinas Hwy   \n",
       "3  675f4cb2583fb273abfea9ca           262 E Main St   \n",
       "4  675f4cb2583fb273abfea9ce        1700 E Stroop Rd   \n",
       "\n",
       "  Center Classification Date              City Classification        Country  \\\n",
       "0                 2020-04-13  Rancho Dominguez      Class III  United States   \n",
       "1                 2020-04-24          Brooklyn      Class III  United States   \n",
       "2                 2022-02-22          Monterey        Class I  United States   \n",
       "3                 2022-07-19            Lovell       Class II  United States   \n",
       "4                 2023-08-02            Dayton       Class II  United States   \n",
       "\n",
       "  Postal Code                Recall Firm Recall Initiation Date State  \\\n",
       "0  90220-5610    Organic By Nature, Inc.             2020-02-24    CA   \n",
       "1  11222-3820  Rong Shing Trading NY Inc             2020-04-01    NY   \n",
       "2  93940-6400  Dole Fresh Vegetables Inc             2022-01-06    CA   \n",
       "3  82431-2102     Queen Bee Gardens, LLC             2022-04-28    WY   \n",
       "4  45429-5040               Cassanos Inc             2023-07-18    OH   \n",
       "\n",
       "       Status Termination Date  Days To Classify  \n",
       "0  Terminated       2021-02-02                49  \n",
       "1  Terminated       2021-03-18                23  \n",
       "2  Terminated       2022-03-22                47  \n",
       "3  Terminated       2023-01-17                82  \n",
       "4  Terminated       2023-09-27                15  "
      ]
     },
     "execution_count": 16,
     "metadata": {},
     "output_type": "execute_result"
    }
   ],
   "source": [
    "import pandas as pd\n",
    "\n",
    "# File Path\n",
    "file_path = 'C:/Users/TeddySong/Desktop/Project_4/clean_records.csv'\n",
    "\n",
    "#Load Data\n",
    "df = pd.read_csv(file_path)\n",
    "\n",
    "# Display the first few rows of the dataset\n",
    "df.head()\n"
   ]
  },
  {
   "cell_type": "code",
   "execution_count": 17,
   "metadata": {},
   "outputs": [
    {
     "name": "stdout",
     "output_type": "stream",
     "text": [
      "<class 'pandas.core.frame.DataFrame'>\n",
      "RangeIndex: 848 entries, 0 to 847\n",
      "Data columns (total 13 columns):\n",
      " #   Column                      Non-Null Count  Dtype \n",
      "---  ------                      --------------  ----- \n",
      " 0   _id                         848 non-null    object\n",
      " 1   Address                     848 non-null    object\n",
      " 2   Center Classification Date  848 non-null    object\n",
      " 3   City                        848 non-null    object\n",
      " 4   Classification              848 non-null    object\n",
      " 5   Country                     848 non-null    object\n",
      " 6   Postal Code                 848 non-null    object\n",
      " 7   Recall Firm                 848 non-null    object\n",
      " 8   Recall Initiation Date      848 non-null    object\n",
      " 9   State                       848 non-null    object\n",
      " 10  Status                      848 non-null    object\n",
      " 11  Termination Date            848 non-null    object\n",
      " 12  Days To Classify            848 non-null    int64 \n",
      "dtypes: int64(1), object(12)\n",
      "memory usage: 86.3+ KB\n",
      "None\n",
      "       Days To Classify\n",
      "count        848.000000\n",
      "mean          51.058962\n",
      "std           63.827922\n",
      "min            7.000000\n",
      "25%           20.000000\n",
      "50%           31.000000\n",
      "75%           46.000000\n",
      "max          256.000000\n",
      "_id                           0\n",
      "Address                       0\n",
      "Center Classification Date    0\n",
      "City                          0\n",
      "Classification                0\n",
      "Country                       0\n",
      "Postal Code                   0\n",
      "Recall Firm                   0\n",
      "Recall Initiation Date        0\n",
      "State                         0\n",
      "Status                        0\n",
      "Termination Date              0\n",
      "Days To Classify              0\n",
      "dtype: int64\n",
      "Accuracy: 0.82\n",
      "              precision    recall  f1-score   support\n",
      "\n",
      "           0       0.88      0.82      0.85        78\n",
      "           1       0.80      0.86      0.83        86\n",
      "           2       0.40      0.33      0.36         6\n",
      "\n",
      "    accuracy                           0.82       170\n",
      "   macro avg       0.69      0.67      0.68       170\n",
      "weighted avg       0.82      0.82      0.82       170\n",
      "\n"
     ]
    },
    {
     "name": "stderr",
     "output_type": "stream",
     "text": [
      "C:\\Users\\TeddySong\\AppData\\Local\\Temp\\ipykernel_21724\\945570397.py:7: FutureWarning:\n",
      "\n",
      "DataFrame.fillna with 'method' is deprecated and will raise in a future version. Use obj.ffill() or obj.bfill() instead.\n",
      "\n"
     ]
    },
    {
     "data": {
      "image/png": "[encoded data removed]",
      "text/plain": [
       "<Figure size 640x480 with 2 Axes>"
      ]
     },
     "metadata": {},
     "output_type": "display_data"
    },
    {
     "name": "stdout",
     "output_type": "stream",
     "text": [
      "Best Parameters: {'max_depth': 20, 'min_samples_split': 2, 'n_estimators': 100}\n"
     ]
    },
    {
     "data": {
      "application/vnd.plotly.v1+json": {
       "config": {
        "plotlyServerURL": "https://plot.ly"
       },
       "data": [
        {
         "customdata": [
          [
           "Class I"
          ],
          [
           "Class I"
          ],
          [
           "Class I"
          ],
          [
           "Class I"
          ],
          [
           "Class I"
          ],
          [
           "Class I"
          ],
          [
           "Class I"
          ],
          [
           "Class I"
          ],
          [
           "Class I"
          ],
          [
           "Class I"
          ],
          [
           "Class I"
          ],
          [
           "Class I"
          ],
          [
           "Class I"
          ],
          [
           "Class I"
          ],
          [
           "Class I"
          ],
          [
           "Class I"
          ],
          [
           "Class I"
          ],
          [
           "Class I"
          ],
          [
           "Class I"
          ],
          [
           "Class I"
          ],
          [
           "Class I"
          ],
          [
           "Class I"
          ],
          [
           "Class I"
          ],
          [
           "Class I"
          ],
          [
           "Class I"
          ],
          [
           "Class I"
          ],
          [
           "Class I"
          ],
          [
           "Class I"
          ],
          [
           "Class I"
          ],
          [
           "Class I"
          ],
          [
           "Class I"
          ],
          [
           "Class I"
          ],
          [
           "Class I"
          ],
          [
           "Class I"
          ],
          [
           "Class I"
          ],
          [
           "Class I"
          ],
          [
           "Class I"
          ],
          [
           "Class I"
          ],
          [
           "Class I"
          ],
          [
           "Class I"
          ],
          [
           "Class I"
          ],
          [
           "Class I"
          ],
          [
           "Class I"
          ],
          [
           "Class I"
          ],
          [
           "Class I"
          ],
          [
           "Class I"
          ],
          [
           "Class I"
          ],
          [
           "Class I"
          ],
          [
           "Class I"
          ],
          [
           "Class I"
          ],
          [
           "Class I"
          ],
          [
           "Class I"
          ],
          [
           "Class I"
          ],
          [
           "Class I"
          ],
          [
           "Class I"
          ],
          [
           "Class I"
          ],
          [
           "Class I"
          ],
          [
           "Class I"
          ],
          [
           "Class I"
          ],
          [
           "Class I"
          ],
          [
           "Class I"
          ],
          [
           "Class I"
          ],
          [
           "Class I"
          ],
          [
           "Class I"
          ],
          [
           "Class I"
          ],
          [
           "Class I"
          ],
          [
           "Class I"
          ],
          [
           "Class I"
          ],
          [
           "Class I"
          ],
          [
           "Class I"
          ],
          [
           "Class I"
          ],
          [
           "Class I"
          ],
          [
           "Class I"
          ],
          [
           "Class I"
          ],
          [
           "Class I"
          ],
          [
           "Class I"
          ],
          [
           "Class I"
          ],
          [
           "Class I"
          ],
          [
           "Class I"
          ],
          [
           "Class I"
          ],
          [
           "Class I"
          ],
          [
           "Class I"
          ],
          [
           "Class I"
          ],
          [
           "Class I"
          ],
          [
           "Class I"
          ],
          [
           "Class I"
          ],
          [
           "Class I"
          ],
          [
           "Class I"
          ],
          [
           "Class I"
          ],
          [
           "Class I"
          ],
          [
           "Class I"
          ],
          [
           "Class I"
          ],
          [
           "Class I"
          ],
          [
           "Class I"
          ],
          [
           "Class I"
          ],
          [
           "Class I"
          ],
          [
           "Class I"
          ],
          [
           "Class I"
          ],
          [
           "Class I"
          ],
          [
           "Class I"
          ],
          [
           "Class I"
          ],
          [
           "Class I"
          ],
          [
           "Class I"
          ],
          [
           "Class I"
          ],
          [
           "Class I"
          ],
          [
           "Class I"
          ],
          [
           "Class I"
          ],
          [
           "Class I"
          ],
          [
           "Class I"
          ],
          [
           "Class I"
          ],
          [
           "Class I"
          ],
          [
           "Class I"
          ],
          [
           "Class I"
          ],
          [
           "Class I"
          ],
          [
           "Class I"
          ],
          [
           "Class I"
          ],
          [
           "Class I"
          ],
          [
           "Class I"
          ],
          [
           "Class I"
          ],
          [
           "Class I"
          ],
          [
           "Class I"
          ],
          [
           "Class I"
          ],
          [
           "Class I"
          ],
          [
           "Class I"
          ],
          [
           "Class I"
          ],
          [
           "Class I"
          ],
          [
           "Class I"
          ],
          [
           "Class I"
          ],
          [
           "Class I"
          ],
          [
           "Class I"
          ],
          [
           "Class I"
          ],
          [
           "Class I"
          ],
          [
           "Class I"
          ],
          [
           "Class I"
          ],
          [
           "Class I"
          ],
          [
           "Class I"
          ],
          [
           "Class I"
          ],
          [
           "Class I"
          ],
          [
           "Class I"
          ],
          [
           "Class I"
          ],
          [
           "Class I"
          ],
          [
           "Class I"
          ],
          [
           "Class I"
          ],
          [
           "Class I"
          ],
          [
           "Class I"
          ],
          [
           "Class I"
          ],
          [
           "Class I"
          ],
          [
           "Class I"
          ],
          [
           "Class I"
          ],
          [
           "Class I"
          ],
          [
           "Class I"
          ],
          [
           "Class I"
          ],
          [
           "Class I"
          ],
          [
           "Class I"
          ],
          [
           "Class I"
          ],
          [
           "Class I"
          ],
          [
           "Class I"
          ],
          [
           "Class I"
          ],
          [
           "Class I"
          ],
          [
           "Class I"
          ],
          [
           "Class I"
          ],
          [
           "Class I"
          ],
          [
           "Class I"
          ],
          [
           "Class I"
          ],
          [
           "Class I"
          ],
          [
           "Class I"
          ],
          [
           "Class I"
          ],
          [
           "Class I"
          ],
          [
           "Class I"
          ],
          [
           "Class I"
          ],
          [
           "Class I"
          ],
          [
           "Class I"
          ],
          [
           "Class I"
          ],
          [
           "Class I"
          ],
          [
           "Class I"
          ],
          [
           "Class I"
          ],
          [
           "Class I"
          ],
          [
           "Class I"
          ],
          [
           "Class I"
          ],
          [
           "Class I"
          ],
          [
           "Class I"
          ],
          [
           "Class I"
          ],
          [
           "Class I"
          ],
          [
           "Class I"
          ],
          [
           "Class I"
          ],
          [
           "Class I"
          ],
          [
           "Class I"
          ],
          [
           "Class I"
          ],
          [
           "Class I"
          ],
          [
           "Class I"
          ],
          [
           "Class I"
          ],
          [
           "Class I"
          ],
          [
           "Class I"
          ],
          [
           "Class I"
          ],
          [
           "Class I"
          ],
          [
           "Class I"
          ],
          [
           "Class I"
          ],
          [
           "Class I"
          ],
          [
           "Class I"
          ],
          [
           "Class I"
          ],
          [
           "Class I"
          ],
          [
           "Class I"
          ],
          [
           "Class I"
          ],
          [
           "Class I"
          ],
          [
           "Class I"
          ],
          [
           "Class I"
          ],
          [
           "Class I"
          ],
          [
           "Class I"
          ],
          [
           "Class I"
          ],
          [
           "Class I"
          ],
          [
           "Class I"
          ],
          [
           "Class I"
          ],
          [
           "Class I"
          ],
          [
           "Class I"
          ],
          [
           "Class I"
          ],
          [
           "Class I"
          ],
          [
           "Class I"
          ],
          [
           "Class I"
          ],
          [
           "Class I"
          ],
          [
           "Class I"
          ],
          [
           "Class I"
          ],
          [
           "Class I"
          ],
          [
           "Class I"
          ],
          [
           "Class I"
          ],
          [
           "Class I"
          ],
          [
           "Class I"
          ],
          [
           "Class I"
          ],
          [
           "Class I"
          ],
          [
           "Class I"
          ],
          [
           "Class I"
          ],
          [
           "Class I"
          ],
          [
           "Class I"
          ],
          [
           "Class I"
          ],
          [
           "Class I"
          ],
          [
           "Class I"
          ],
          [
           "Class I"
          ],
          [
           "Class I"
          ],
          [
           "Class I"
          ],
          [
           "Class I"
          ],
          [
           "Class I"
          ],
          [
           "Class I"
          ],
          [
           "Class I"
          ],
          [
           "Class I"
          ],
          [
           "Class I"
          ],
          [
           "Class I"
          ],
          [
           "Class I"
          ],
          [
           "Class I"
          ],
          [
           "Class I"
          ],
          [
           "Class I"
          ],
          [
           "Class I"
          ],
          [
           "Class I"
          ],
          [
           "Class I"
          ],
          [
           "Class I"
          ],
          [
           "Class I"
          ],
          [
           "Class I"
          ],
          [
           "Class I"
          ],
          [
           "Class I"
          ],
          [
           "Class I"
          ],
          [
           "Class I"
          ],
          [
           "Class I"
          ],
          [
           "Class I"
          ],
          [
           "Class I"
          ],
          [
           "Class I"
          ],
          [
           "Class I"
          ],
          [
           "Class I"
          ],
          [
           "Class I"
          ],
          [
           "Class I"
          ],
          [
           "Class I"
          ],
          [
           "Class I"
          ],
          [
           "Class I"
          ],
          [
           "Class I"
          ],
          [
           "Class I"
          ],
          [
           "Class I"
          ],
          [
           "Class I"
          ],
          [
           "Class I"
          ],
          [
           "Class I"
          ],
          [
           "Class I"
          ],
          [
           "Class I"
          ],
          [
           "Class I"
          ],
          [
           "Class I"
          ],
          [
           "Class I"
          ],
          [
           "Class I"
          ],
          [
           "Class I"
          ],
          [
           "Class I"
          ],
          [
           "Class I"
          ],
          [
           "Class I"
          ],
          [
           "Class I"
          ],
          [
           "Class I"
          ],
          [
           "Class I"
          ],
          [
           "Class I"
          ],
          [
           "Class I"
          ],
          [
           "Class I"
          ],
          [
           "Class I"
          ],
          [
           "Class I"
          ],
          [
           "Class I"
          ],
          [
           "Class I"
          ],
          [
           "Class I"
          ],
          [
           "Class I"
          ],
          [
           "Class I"
          ],
          [
           "Class I"
          ],
          [
           "Class I"
          ],
          [
           "Class I"
          ],
          [
           "Class I"
          ],
          [
           "Class I"
          ],
          [
           "Class I"
          ],
          [
           "Class I"
          ],
          [
           "Class I"
          ],
          [
           "Class I"
          ],
          [
           "Class I"
          ],
          [
           "Class I"
          ],
          [
           "Class I"
          ],
          [
           "Class I"
          ],
          [
           "Class I"
          ],
          [
           "Class I"
          ],
          [
           "Class I"
          ],
          [
           "Class I"
          ],
          [
           "Class I"
          ],
          [
           "Class I"
          ],
          [
           "Class I"
          ],
          [
           "Class I"
          ],
          [
           "Class I"
          ],
          [
           "Class I"
          ],
          [
           "Class I"
          ],
          [
           "Class I"
          ],
          [
           "Class I"
          ],
          [
           "Class I"
          ],
          [
           "Class I"
          ],
          [
           "Class I"
          ],
          [
           "Class I"
          ],
          [
           "Class I"
          ],
          [
           "Class I"
          ],
          [
           "Class I"
          ],
          [
           "Class I"
          ],
          [
           "Class I"
          ],
          [
           "Class I"
          ],
          [
           "Class I"
          ],
          [
           "Class I"
          ],
          [
           "Class I"
          ],
          [
           "Class I"
          ],
          [
           "Class I"
          ],
          [
           "Class I"
          ],
          [
           "Class I"
          ],
          [
           "Class I"
          ],
          [
           "Class I"
          ],
          [
           "Class I"
          ],
          [
           "Class I"
          ],
          [
           "Class I"
          ],
          [
           "Class I"
          ],
          [
           "Class I"
          ],
          [
           "Class I"
          ],
          [
           "Class I"
          ],
          [
           "Class I"
          ],
          [
           "Class I"
          ],
          [
           "Class I"
          ],
          [
           "Class I"
          ],
          [
           "Class I"
          ],
          [
           "Class I"
          ],
          [
           "Class I"
          ],
          [
           "Class I"
          ],
          [
           "Class I"
          ],
          [
           "Class I"
          ],
          [
           "Class I"
          ],
          [
           "Class I"
          ],
          [
           "Class I"
          ],
          [
           "Class I"
          ],
          [
           "Class I"
          ],
          [
           "Class I"
          ],
          [
           "Class I"
          ],
          [
           "Class I"
          ],
          [
           "Class I"
          ],
          [
           "Class I"
          ],
          [
           "Class I"
          ],
          [
           "Class I"
          ],
          [
           "Class I"
          ],
          [
           "Class I"
          ],
          [
           "Class I"
          ],
          [
           "Class I"
          ],
          [
           "Class I"
          ],
          [
           "Class I"
          ],
          [
           "Class I"
          ],
          [
           "Class I"
          ],
          [
           "Class I"
          ],
          [
           "Class I"
          ],
          [
           "Class I"
          ],
          [
           "Class I"
          ],
          [
           "Class I"
          ],
          [
           "Class I"
          ],
          [
           "Class I"
          ],
          [
           "Class I"
          ]
         ],
         "hovertemplate": "Actual Class=%{customdata[0]}<br>Date=%{x}<br>Predicted Class=%{y}<extra></extra>",
         "legendgroup": "Class I",
         "marker": {
          "color": "#636efa",
          "symbol": "circle"
         },
         "mode": "markers",
         "name": "Class I",
         "orientation": "v",
         "showlegend": true,
         "type": "scatter",
         "x": [
          "2019-09-28T00:00:00",
          "2019-11-29T00:00:00",
          "2019-12-03T00:00:00",
          "2019-12-10T00:00:00",
          "2019-12-10T00:00:00",
          "2019-12-19T00:00:00",
          "2019-12-19T00:00:00",
          "2019-12-19T00:00:00",
          "2019-12-19T00:00:00",
          "2019-12-21T00:00:00",
          "2019-12-23T00:00:00",
          "2019-12-24T00:00:00",
          "2019-12-24T00:00:00",
          "2019-12-24T00:00:00",
          "2019-12-27T00:00:00",
          "2019-12-31T00:00:00",
          "2020-01-06T00:00:00",
          "2020-01-06T00:00:00",
          "2020-01-06T00:00:00",
          "2020-01-06T00:00:00",
          "2020-01-06T00:00:00",
          "2020-01-15T00:00:00",
          "2020-02-07T00:00:00",
          "2020-02-10T00:00:00",
          "2020-03-06T00:00:00",
          "2020-03-11T00:00:00",
          "2020-03-12T00:00:00",
          "2020-06-16T00:00:00",
          "2020-06-16T00:00:00",
          "2020-07-23T00:00:00",
          "2020-07-24T00:00:00",
          "2020-07-24T00:00:00",
          "2020-07-29T00:00:00",
          "2020-07-31T00:00:00",
          "2020-07-31T00:00:00",
          "2020-08-02T00:00:00",
          "2020-08-02T00:00:00",
          "2020-08-02T00:00:00",
          "2020-08-02T00:00:00",
          "2020-08-02T00:00:00",
          "2020-08-02T00:00:00",
          "2020-08-03T00:00:00",
          "2020-08-03T00:00:00",
          "2020-08-03T00:00:00",
          "2020-08-03T00:00:00",
          "2020-08-03T00:00:00",
          "2020-08-06T00:00:00",
          "2020-08-21T00:00:00",
          "2020-08-21T00:00:00",
          "2020-08-24T00:00:00",
          "2020-09-24T00:00:00",
          "2020-10-01T00:00:00",
          "2020-10-01T00:00:00",
          "2020-10-01T00:00:00",
          "2020-10-01T00:00:00",
          "2020-10-05T00:00:00",
          "2020-10-09T00:00:00",
          "2020-10-09T00:00:00",
          "2020-10-09T00:00:00",
          "2020-10-23T00:00:00",
          "2020-10-27T00:00:00",
          "2020-10-27T00:00:00",
          "2020-11-23T00:00:00",
          "2020-12-16T00:00:00",
          "2020-12-18T00:00:00",
          "2020-12-31T00:00:00",
          "2021-02-05T00:00:00",
          "2021-02-17T00:00:00",
          "2021-02-24T00:00:00",
          "2021-02-25T00:00:00",
          "2021-03-08T00:00:00",
          "2021-03-15T00:00:00",
          "2021-03-22T00:00:00",
          "2021-03-26T00:00:00",
          "2021-04-12T00:00:00",
          "2021-04-20T00:00:00",
          "2021-04-23T00:00:00",
          "2021-04-23T00:00:00",
          "2021-04-23T00:00:00",
          "2021-04-23T00:00:00",
          "2021-04-23T00:00:00",
          "2021-04-23T00:00:00",
          "2021-04-23T00:00:00",
          "2021-05-07T00:00:00",
          "2021-05-20T00:00:00",
          "2021-05-20T00:00:00",
          "2021-05-28T00:00:00",
          "2021-06-01T00:00:00",
          "2021-06-01T00:00:00",
          "2021-06-01T00:00:00",
          "2021-06-01T00:00:00",
          "2021-06-01T00:00:00",
          "2021-06-01T00:00:00",
          "2021-06-14T00:00:00",
          "2021-07-02T00:00:00",
          "2021-07-05T00:00:00",
          "2021-07-15T00:00:00",
          "2021-07-19T00:00:00",
          "2021-07-21T00:00:00",
          "2021-08-04T00:00:00",
          "2021-08-08T00:00:00",
          "2021-09-16T00:00:00",
          "2021-09-16T00:00:00",
          "2021-09-22T00:00:00",
          "2021-10-21T00:00:00",
          "2021-10-21T00:00:00",
          "2021-10-21T00:00:00",
          "2021-10-22T00:00:00",
          "2021-10-22T00:00:00",
          "2021-10-22T00:00:00",
          "2021-10-24T00:00:00",
          "2021-10-25T00:00:00",
          "2021-11-02T00:00:00",
          "2021-11-02T00:00:00",
          "2021-11-02T00:00:00",
          "2021-11-09T00:00:00",
          "2021-11-09T00:00:00",
          "2021-11-09T00:00:00",
          "2021-11-09T00:00:00",
          "2021-11-09T00:00:00",
          "2021-11-09T00:00:00",
          "2021-11-09T00:00:00",
          "2021-11-15T00:00:00",
          "2021-11-18T00:00:00",
          "2021-12-18T00:00:00",
          "2021-12-18T00:00:00",
          "2021-12-18T00:00:00",
          "2021-12-18T00:00:00",
          "2021-12-18T00:00:00",
          "2021-12-18T00:00:00",
          "2021-12-18T00:00:00",
          "2021-12-18T00:00:00",
          "2021-12-18T00:00:00",
          "2021-12-22T00:00:00",
          "2021-12-22T00:00:00",
          "2021-12-22T00:00:00",
          "2021-12-22T00:00:00",
          "2021-12-22T00:00:00",
          "2022-01-06T00:00:00",
          "2022-01-06T00:00:00",
          "2022-01-06T00:00:00",
          "2022-01-06T00:00:00",
          "2022-01-06T00:00:00",
          "2022-01-06T00:00:00",
          "2022-01-06T00:00:00",
          "2022-01-06T00:00:00",
          "2022-02-11T00:00:00",
          "2022-03-18T00:00:00",
          "2022-03-18T00:00:00",
          "2022-03-18T00:00:00",
          "2022-03-29T00:00:00",
          "2022-04-14T00:00:00",
          "2022-04-14T00:00:00",
          "2022-04-14T00:00:00",
          "2022-04-18T00:00:00",
          "2022-04-19T00:00:00",
          "2022-05-01T00:00:00",
          "2022-05-01T00:00:00",
          "2022-05-06T00:00:00",
          "2022-05-06T00:00:00",
          "2022-05-06T00:00:00",
          "2022-05-20T00:00:00",
          "2022-05-20T00:00:00",
          "2022-05-20T00:00:00",
          "2022-05-20T00:00:00",
          "2022-05-20T00:00:00",
          "2022-05-20T00:00:00",
          "2022-05-20T00:00:00",
          "2022-05-20T00:00:00",
          "2022-05-20T00:00:00",
          "2022-05-21T00:00:00",
          "2022-05-21T00:00:00",
          "2022-05-22T00:00:00",
          "2022-05-22T00:00:00",
          "2022-05-23T00:00:00",
          "2022-05-23T00:00:00",
          "2022-05-23T00:00:00",
          "2022-05-23T00:00:00",
          "2022-05-23T00:00:00",
          "2022-05-24T00:00:00",
          "2022-05-24T00:00:00",
          "2022-07-13T00:00:00",
          "2022-07-18T00:00:00",
          "2022-07-22T00:00:00",
          "2022-07-22T00:00:00",
          "2022-07-22T00:00:00",
          "2022-07-22T00:00:00",
          "2022-07-22T00:00:00",
          "2022-07-22T00:00:00",
          "2022-07-22T00:00:00",
          "2022-07-22T00:00:00",
          "2022-07-22T00:00:00",
          "2022-07-22T00:00:00",
          "2022-07-22T00:00:00",
          "2022-07-29T00:00:00",
          "2022-07-29T00:00:00",
          "2022-08-11T00:00:00",
          "2022-08-11T00:00:00",
          "2022-08-15T00:00:00",
          "2022-08-23T00:00:00",
          "2022-08-25T00:00:00",
          "2022-09-23T00:00:00",
          "2022-09-27T00:00:00",
          "2022-10-06T00:00:00",
          "2022-10-14T00:00:00",
          "2022-10-20T00:00:00",
          "2022-10-20T00:00:00",
          "2022-12-23T00:00:00",
          "2023-01-09T00:00:00",
          "2023-01-30T00:00:00",
          "2023-02-02T00:00:00",
          "2023-02-03T00:00:00",
          "2023-02-03T00:00:00",
          "2023-02-03T00:00:00",
          "2023-02-03T00:00:00",
          "2023-02-03T00:00:00",
          "2023-02-03T00:00:00",
          "2023-02-03T00:00:00",
          "2023-02-03T00:00:00",
          "2023-02-03T00:00:00",
          "2023-02-03T00:00:00",
          "2023-02-03T00:00:00",
          "2023-02-03T00:00:00",
          "2023-02-03T00:00:00",
          "2023-02-03T00:00:00",
          "2023-02-03T00:00:00",
          "2023-02-03T00:00:00",
          "2023-02-03T00:00:00",
          "2023-02-03T00:00:00",
          "2023-02-03T00:00:00",
          "2023-02-03T00:00:00",
          "2023-02-03T00:00:00",
          "2023-02-03T00:00:00",
          "2023-02-03T00:00:00",
          "2023-02-03T00:00:00",
          "2023-02-03T00:00:00",
          "2023-02-03T00:00:00",
          "2023-02-03T00:00:00",
          "2023-02-03T00:00:00",
          "2023-02-03T00:00:00",
          "2023-02-03T00:00:00",
          "2023-02-03T00:00:00",
          "2023-02-03T00:00:00",
          "2023-02-03T00:00:00",
          "2023-02-03T00:00:00",
          "2023-02-03T00:00:00",
          "2023-02-03T00:00:00",
          "2023-02-03T00:00:00",
          "2023-02-03T00:00:00",
          "2023-02-03T00:00:00",
          "2023-02-03T00:00:00",
          "2023-02-03T00:00:00",
          "2023-02-03T00:00:00",
          "2023-02-03T00:00:00",
          "2023-02-03T00:00:00",
          "2023-02-03T00:00:00",
          "2023-02-03T00:00:00",
          "2023-02-03T00:00:00",
          "2023-02-03T00:00:00",
          "2023-02-03T00:00:00",
          "2023-02-03T00:00:00",
          "2023-02-03T00:00:00",
          "2023-02-03T00:00:00",
          "2023-02-03T00:00:00",
          "2023-02-03T00:00:00",
          "2023-02-03T00:00:00",
          "2023-02-03T00:00:00",
          "2023-02-03T00:00:00",
          "2023-02-03T00:00:00",
          "2023-02-03T00:00:00",
          "2023-02-03T00:00:00",
          "2023-02-03T00:00:00",
          "2023-02-03T00:00:00",
          "2023-02-03T00:00:00",
          "2023-02-03T00:00:00",
          "2023-02-03T00:00:00",
          "2023-02-03T00:00:00",
          "2023-02-03T00:00:00",
          "2023-02-03T00:00:00",
          "2023-02-03T00:00:00",
          "2023-02-03T00:00:00",
          "2023-02-10T00:00:00",
          "2023-02-21T00:00:00",
          "2023-03-16T00:00:00",
          "2023-04-05T00:00:00",
          "2023-04-05T00:00:00",
          "2023-04-05T00:00:00",
          "2023-04-05T00:00:00",
          "2023-04-05T00:00:00",
          "2023-05-03T00:00:00",
          "2023-05-05T00:00:00",
          "2023-05-05T00:00:00",
          "2023-05-15T00:00:00",
          "2023-05-25T00:00:00",
          "2023-05-26T00:00:00",
          "2023-05-26T00:00:00",
          "2023-05-26T00:00:00",
          "2023-05-26T00:00:00",
          "2023-05-26T00:00:00",
          "2023-05-26T00:00:00",
          "2023-05-26T00:00:00",
          "2023-05-26T00:00:00",
          "2023-05-26T00:00:00",
          "2023-05-26T00:00:00",
          "2023-05-26T00:00:00",
          "2023-05-26T00:00:00",
          "2023-05-26T00:00:00",
          "2023-05-26T00:00:00",
          "2023-05-26T00:00:00",
          "2023-05-26T00:00:00",
          "2023-05-26T00:00:00",
          "2023-05-26T00:00:00",
          "2023-05-26T00:00:00",
          "2023-05-26T00:00:00",
          "2023-05-26T00:00:00",
          "2023-05-26T00:00:00",
          "2023-05-26T00:00:00",
          "2023-06-05T00:00:00",
          "2023-06-09T00:00:00",
          "2023-06-12T00:00:00",
          "2023-06-16T00:00:00",
          "2023-06-16T00:00:00",
          "2023-06-21T00:00:00",
          "2023-06-21T00:00:00",
          "2023-06-26T00:00:00",
          "2023-06-29T00:00:00",
          "2023-07-10T00:00:00",
          "2023-08-08T00:00:00",
          "2023-08-08T00:00:00",
          "2023-08-14T00:00:00",
          "2023-08-22T00:00:00",
          "2023-08-22T00:00:00",
          "2023-08-22T00:00:00",
          "2023-08-22T00:00:00",
          "2023-08-22T00:00:00",
          "2023-08-22T00:00:00",
          "2023-08-22T00:00:00",
          "2023-08-22T00:00:00",
          "2023-08-22T00:00:00",
          "2023-08-22T00:00:00",
          "2023-09-01T00:00:00",
          "2023-09-01T00:00:00",
          "2023-09-25T00:00:00",
          "2023-09-27T00:00:00",
          "2023-09-27T00:00:00",
          "2023-09-27T00:00:00",
          "2023-09-29T00:00:00",
          "2023-10-17T00:00:00",
          "2023-10-23T00:00:00",
          "2023-10-23T00:00:00",
          "2023-10-23T00:00:00",
          "2023-10-23T00:00:00",
          "2023-11-24T00:00:00",
          "2023-11-24T00:00:00",
          "2023-11-24T00:00:00",
          "2023-11-24T00:00:00",
          "2023-11-24T00:00:00",
          "2023-11-24T00:00:00",
          "2023-11-29T00:00:00",
          "2023-11-30T00:00:00",
          "2023-12-01T00:00:00",
          "2023-12-04T00:00:00",
          "2023-12-07T00:00:00",
          "2023-12-07T00:00:00",
          "2023-12-08T00:00:00",
          "2023-12-15T00:00:00",
          "2024-02-05T00:00:00",
          "2024-02-06T00:00:00",
          "2024-02-06T00:00:00",
          "2024-02-20T00:00:00",
          "2024-03-08T00:00:00",
          "2024-03-20T00:00:00",
          "2024-03-20T00:00:00",
          "2024-05-03T00:00:00",
          "2024-05-03T00:00:00",
          "2024-05-03T00:00:00",
          "2024-05-03T00:00:00",
          "2024-05-03T00:00:00",
          "2024-05-03T00:00:00",
          "2024-06-06T00:00:00",
          "2024-06-20T00:00:00",
          "2024-07-11T00:00:00",
          "2024-07-11T00:00:00",
          "2024-07-11T00:00:00",
          "2024-07-11T00:00:00",
          "2024-07-11T00:00:00",
          "2024-07-17T00:00:00",
          "2024-07-19T00:00:00",
          "2024-07-31T00:00:00"
         ],
         "xaxis": "x",
         "y": [
          "Class I",
          "Class I",
          "Class I",
          "Class I",
          "Class I",
          "Class I",
          "Class I",
          "Class I",
          "Class I",
          "Class I",
          "Class I",
          "Class I",
          "Class I",
          "Class I",
          "Class I",
          "Class I",
          "Class I",
          "Class I",
          "Class I",
          "Class I",
          "Class I",
          "Class I",
          "Class I",
          "Class II",
          "Class I",
          "Class I",
          "Class I",
          "Class I",
          "Class I",
          "Class I",
          "Class I",
          "Class I",
          "Class I",
          "Class I",
          "Class I",
          "Class I",
          "Class I",
          "Class I",
          "Class I",
          "Class I",
          "Class I",
          "Class I",
          "Class I",
          "Class I",
          "Class I",
          "Class I",
          "Class I",
          "Class I",
          "Class I",
          "Class I",
          "Class I",
          "Class I",
          "Class I",
          "Class I",
          "Class I",
          "Class I",
          "Class I",
          "Class I",
          "Class I",
          "Class I",
          "Class I",
          "Class I",
          "Class I",
          "Class I",
          "Class I",
          "Class I",
          "Class I",
          "Class I",
          "Class I",
          "Class I",
          "Class I",
          "Class I",
          "Class I",
          "Class I",
          "Class I",
          "Class I",
          "Class I",
          "Class I",
          "Class I",
          "Class I",
          "Class I",
          "Class I",
          "Class I",
          "Class I",
          "Class I",
          "Class I",
          "Class I",
          "Class I",
          "Class I",
          "Class I",
          "Class I",
          "Class I",
          "Class I",
          "Class I",
          "Class I",
          "Class I",
          "Class I",
          "Class II",
          "Class I",
          "Class II",
          "Class II",
          "Class I",
          "Class I",
          "Class I",
          "Class I",
          "Class I",
          "Class I",
          "Class I",
          "Class I",
          "Class I",
          "Class I",
          "Class I",
          "Class I",
          "Class I",
          "Class I",
          "Class I",
          "Class I",
          "Class I",
          "Class I",
          "Class I",
          "Class I",
          "Class I",
          "Class II",
          "Class I",
          "Class I",
          "Class I",
          "Class I",
          "Class I",
          "Class I",
          "Class I",
          "Class I",
          "Class I",
          "Class I",
          "Class I",
          "Class I",
          "Class I",
          "Class I",
          "Class I",
          "Class I",
          "Class I",
          "Class I",
          "Class I",
          "Class I",
          "Class I",
          "Class I",
          "Class I",
          "Class I",
          "Class I",
          "Class I",
          "Class I",
          "Class I",
          "Class II",
          "Class I",
          "Class I",
          "Class I",
          "Class I",
          "Class I",
          "Class I",
          "Class I",
          "Class I",
          "Class I",
          "Class I",
          "Class I",
          "Class I",
          "Class I",
          "Class I",
          "Class I",
          "Class I",
          "Class I",
          "Class I",
          "Class I",
          "Class I",
          "Class I",
          "Class I",
          "Class I",
          "Class I",
          "Class I",
          "Class I",
          "Class I",
          "Class I",
          "Class II",
          "Class I",
          "Class I",
          "Class I",
          "Class I",
          "Class I",
          "Class I",
          "Class I",
          "Class I",
          "Class I",
          "Class I",
          "Class I",
          "Class I",
          "Class I",
          "Class I",
          "Class I",
          "Class I",
          "Class I",
          "Class I",
          "Class II",
          "Class I",
          "Class I",
          "Class I",
          "Class I",
          "Class II",
          "Class I",
          "Class I",
          "Class I",
          "Class I",
          "Class I",
          "Class II",
          "Class I",
          "Class I",
          "Class I",
          "Class I",
          "Class I",
          "Class I",
          "Class I",
          "Class I",
          "Class I",
          "Class I",
          "Class I",
          "Class I",
          "Class I",
          "Class I",
          "Class I",
          "Class I",
          "Class I",
          "Class I",
          "Class I",
          "Class I",
          "Class I",
          "Class I",
          "Class I",
          "Class I",
          "Class I",
          "Class I",
          "Class I",
          "Class I",
          "Class I",
          "Class I",
          "Class I",
          "Class I",
          "Class I",
          "Class I",
          "Class I",
          "Class I",
          "Class I",
          "Class I",
          "Class I",
          "Class I",
          "Class I",
          "Class I",
          "Class I",
          "Class I",
          "Class I",
          "Class I",
          "Class I",
          "Class I",
          "Class I",
          "Class I",
          "Class I",
          "Class I",
          "Class I",
          "Class I",
          "Class I",
          "Class I",
          "Class I",
          "Class I",
          "Class I",
          "Class I",
          "Class I",
          "Class I",
          "Class I",
          "Class I",
          "Class I",
          "Class I",
          "Class I",
          "Class I",
          "Class I",
          "Class I",
          "Class I",
          "Class I",
          "Class I",
          "Class I",
          "Class I",
          "Class I",
          "Class I",
          "Class I",
          "Class I",
          "Class I",
          "Class I",
          "Class I",
          "Class I",
          "Class I",
          "Class I",
          "Class I",
          "Class I",
          "Class I",
          "Class I",
          "Class I",
          "Class I",
          "Class I",
          "Class I",
          "Class I",
          "Class I",
          "Class I",
          "Class I",
          "Class I",
          "Class I",
          "Class I",
          "Class I",
          "Class I",
          "Class I",
          "Class I",
          "Class I",
          "Class I",
          "Class I",
          "Class I",
          "Class I",
          "Class I",
          "Class I",
          "Class I",
          "Class I",
          "Class I",
          "Class I",
          "Class I",
          "Class I",
          "Class I",
          "Class I",
          "Class I",
          "Class I",
          "Class I",
          "Class I",
          "Class I",
          "Class I",
          "Class I",
          "Class I",
          "Class I",
          "Class I",
          "Class I",
          "Class I",
          "Class I",
          "Class I",
          "Class I",
          "Class I",
          "Class I",
          "Class I",
          "Class I",
          "Class I",
          "Class I",
          "Class I",
          "Class I",
          "Class I",
          "Class I",
          "Class I",
          "Class I",
          "Class I",
          "Class II",
          "Class I",
          "Class I",
          "Class I",
          "Class I",
          "Class I",
          "Class I",
          "Class I",
          "Class II",
          "Class II",
          "Class II",
          "Class I",
          "Class II",
          "Class I",
          "Class I",
          "Class I",
          "Class I",
          "Class I",
          "Class I",
          "Class I",
          "Class I",
          "Class II",
          "Class I",
          "Class I",
          "Class I",
          "Class I",
          "Class I",
          "Class I",
          "Class I",
          "Class I",
          "Class I"
         ],
         "yaxis": "y"
        },
        {
         "customdata": [
          [
           "Class II"
          ],
          [
           "Class II"
          ],
          [
           "Class II"
          ],
          [
           "Class II"
          ],
          [
           "Class II"
          ],
          [
           "Class II"
          ],
          [
           "Class II"
          ],
          [
           "Class II"
          ],
          [
           "Class II"
          ],
          [
           "Class II"
          ],
          [
           "Class II"
          ],
          [
           "Class II"
          ],
          [
           "Class II"
          ],
          [
           "Class II"
          ],
          [
           "Class II"
          ],
          [
           "Class II"
          ],
          [
           "Class II"
          ],
          [
           "Class II"
          ],
          [
           "Class II"
          ],
          [
           "Class II"
          ],
          [
           "Class II"
          ],
          [
           "Class II"
          ],
          [
           "Class II"
          ],
          [
           "Class II"
          ],
          [
           "Class II"
          ],
          [
           "Class II"
          ],
          [
           "Class II"
          ],
          [
           "Class II"
          ],
          [
           "Class II"
          ],
          [
           "Class II"
          ],
          [
           "Class II"
          ],
          [
           "Class II"
          ],
          [
           "Class II"
          ],
          [
           "Class II"
          ],
          [
           "Class II"
          ],
          [
           "Class II"
          ],
          [
           "Class II"
          ],
          [
           "Class II"
          ],
          [
           "Class II"
          ],
          [
           "Class II"
          ],
          [
           "Class II"
          ],
          [
           "Class II"
          ],
          [
           "Class II"
          ],
          [
           "Class II"
          ],
          [
           "Class II"
          ],
          [
           "Class II"
          ],
          [
           "Class II"
          ],
          [
           "Class II"
          ],
          [
           "Class II"
          ],
          [
           "Class II"
          ],
          [
           "Class II"
          ],
          [
           "Class II"
          ],
          [
           "Class II"
          ],
          [
           "Class II"
          ],
          [
           "Class II"
          ],
          [
           "Class II"
          ],
          [
           "Class II"
          ],
          [
           "Class II"
          ],
          [
           "Class II"
          ],
          [
           "Class II"
          ],
          [
           "Class II"
          ],
          [
           "Class II"
          ],
          [
           "Class II"
          ],
          [
           "Class II"
          ],
          [
           "Class II"
          ],
          [
           "Class II"
          ],
          [
           "Class II"
          ],
          [
           "Class II"
          ],
          [
           "Class II"
          ],
          [
           "Class II"
          ],
          [
           "Class II"
          ],
          [
           "Class II"
          ],
          [
           "Class II"
          ],
          [
           "Class II"
          ],
          [
           "Class II"
          ],
          [
           "Class II"
          ],
          [
           "Class II"
          ],
          [
           "Class II"
          ],
          [
           "Class II"
          ],
          [
           "Class II"
          ],
          [
           "Class II"
          ],
          [
           "Class II"
          ],
          [
           "Class II"
          ],
          [
           "Class II"
          ],
          [
           "Class II"
          ],
          [
           "Class II"
          ],
          [
           "Class II"
          ],
          [
           "Class II"
          ],
          [
           "Class II"
          ],
          [
           "Class II"
          ],
          [
           "Class II"
          ],
          [
           "Class II"
          ],
          [
           "Class II"
          ],
          [
           "Class II"
          ],
          [
           "Class II"
          ],
          [
           "Class II"
          ],
          [
           "Class II"
          ],
          [
           "Class II"
          ],
          [
           "Class II"
          ],
          [
           "Class II"
          ],
          [
           "Class II"
          ],
          [
           "Class II"
          ],
          [
           "Class II"
          ],
          [
           "Class II"
          ],
          [
           "Class II"
          ],
          [
           "Class II"
          ],
          [
           "Class II"
          ],
          [
           "Class II"
          ],
          [
           "Class II"
          ],
          [
           "Class II"
          ],
          [
           "Class II"
          ],
          [
           "Class II"
          ],
          [
           "Class II"
          ],
          [
           "Class II"
          ],
          [
           "Class II"
          ],
          [
           "Class II"
          ],
          [
           "Class II"
          ],
          [
           "Class II"
          ],
          [
           "Class II"
          ],
          [
           "Class II"
          ],
          [
           "Class II"
          ],
          [
           "Class II"
          ],
          [
           "Class II"
          ],
          [
           "Class II"
          ],
          [
           "Class II"
          ],
          [
           "Class II"
          ],
          [
           "Class II"
          ],
          [
           "Class II"
          ],
          [
           "Class II"
          ],
          [
           "Class II"
          ],
          [
           "Class II"
          ],
          [
           "Class II"
          ],
          [
           "Class II"
          ],
          [
           "Class II"
          ],
          [
           "Class II"
          ],
          [
           "Class II"
          ],
          [
           "Class II"
          ],
          [
           "Class II"
          ],
          [
           "Class II"
          ],
          [
           "Class II"
          ],
          [
           "Class II"
          ],
          [
           "Class II"
          ],
          [
           "Class II"
          ],
          [
           "Class II"
          ],
          [
           "Class II"
          ],
          [
           "Class II"
          ],
          [
           "Class II"
          ],
          [
           "Class II"
          ],
          [
           "Class II"
          ],
          [
           "Class II"
          ],
          [
           "Class II"
          ],
          [
           "Class II"
          ],
          [
           "Class II"
          ],
          [
           "Class II"
          ],
          [
           "Class II"
          ],
          [
           "Class II"
          ],
          [
           "Class II"
          ],
          [
           "Class II"
          ],
          [
           "Class II"
          ],
          [
           "Class II"
          ],
          [
           "Class II"
          ],
          [
           "Class II"
          ],
          [
           "Class II"
          ],
          [
           "Class II"
          ],
          [
           "Class II"
          ],
          [
           "Class II"
          ],
          [
           "Class II"
          ],
          [
           "Class II"
          ],
          [
           "Class II"
          ],
          [
           "Class II"
          ],
          [
           "Class II"
          ],
          [
           "Class II"
          ],
          [
           "Class II"
          ],
          [
           "Class II"
          ],
          [
           "Class II"
          ],
          [
           "Class II"
          ],
          [
           "Class II"
          ],
          [
           "Class II"
          ],
          [
           "Class II"
          ],
          [
           "Class II"
          ],
          [
           "Class II"
          ],
          [
           "Class II"
          ],
          [
           "Class II"
          ],
          [
           "Class II"
          ],
          [
           "Class II"
          ],
          [
           "Class II"
          ],
          [
           "Class II"
          ],
          [
           "Class II"
          ],
          [
           "Class II"
          ],
          [
           "Class II"
          ],
          [
           "Class II"
          ],
          [
           "Class II"
          ],
          [
           "Class II"
          ],
          [
           "Class II"
          ],
          [
           "Class II"
          ],
          [
           "Class II"
          ],
          [
           "Class II"
          ],
          [
           "Class II"
          ],
          [
           "Class II"
          ],
          [
           "Class II"
          ],
          [
           "Class II"
          ],
          [
           "Class II"
          ],
          [
           "Class II"
          ],
          [
           "Class II"
          ],
          [
           "Class II"
          ],
          [
           "Class II"
          ],
          [
           "Class II"
          ],
          [
           "Class II"
          ],
          [
           "Class II"
          ],
          [
           "Class II"
          ],
          [
           "Class II"
          ],
          [
           "Class II"
          ],
          [
           "Class II"
          ],
          [
           "Class II"
          ],
          [
           "Class II"
          ],
          [
           "Class II"
          ],
          [
           "Class II"
          ],
          [
           "Class II"
          ],
          [
           "Class II"
          ],
          [
           "Class II"
          ],
          [
           "Class II"
          ],
          [
           "Class II"
          ],
          [
           "Class II"
          ],
          [
           "Class II"
          ],
          [
           "Class II"
          ],
          [
           "Class II"
          ],
          [
           "Class II"
          ],
          [
           "Class II"
          ],
          [
           "Class II"
          ],
          [
           "Class II"
          ],
          [
           "Class II"
          ],
          [
           "Class II"
          ],
          [
           "Class II"
          ],
          [
           "Class II"
          ],
          [
           "Class II"
          ],
          [
           "Class II"
          ],
          [
           "Class II"
          ],
          [
           "Class II"
          ],
          [
           "Class II"
          ],
          [
           "Class II"
          ],
          [
           "Class II"
          ],
          [
           "Class II"
          ],
          [
           "Class II"
          ],
          [
           "Class II"
          ],
          [
           "Class II"
          ],
          [
           "Class II"
          ],
          [
           "Class II"
          ],
          [
           "Class II"
          ],
          [
           "Class II"
          ],
          [
           "Class II"
          ],
          [
           "Class II"
          ],
          [
           "Class II"
          ],
          [
           "Class II"
          ],
          [
           "Class II"
          ],
          [
           "Class II"
          ],
          [
           "Class II"
          ],
          [
           "Class II"
          ],
          [
           "Class II"
          ],
          [
           "Class II"
          ],
          [
           "Class II"
          ],
          [
           "Class II"
          ],
          [
           "Class II"
          ],
          [
           "Class II"
          ],
          [
           "Class II"
          ],
          [
           "Class II"
          ],
          [
           "Class II"
          ],
          [
           "Class II"
          ],
          [
           "Class II"
          ],
          [
           "Class II"
          ],
          [
           "Class II"
          ],
          [
           "Class II"
          ],
          [
           "Class II"
          ],
          [
           "Class II"
          ],
          [
           "Class II"
          ],
          [
           "Class II"
          ],
          [
           "Class II"
          ],
          [
           "Class II"
          ],
          [
           "Class II"
          ],
          [
           "Class II"
          ],
          [
           "Class II"
          ],
          [
           "Class II"
          ],
          [
           "Class II"
          ],
          [
           "Class II"
          ],
          [
           "Class II"
          ],
          [
           "Class II"
          ],
          [
           "Class II"
          ],
          [
           "Class II"
          ],
          [
           "Class II"
          ],
          [
           "Class II"
          ],
          [
           "Class II"
          ],
          [
           "Class II"
          ],
          [
           "Class II"
          ],
          [
           "Class II"
          ],
          [
           "Class II"
          ],
          [
           "Class II"
          ],
          [
           "Class II"
          ],
          [
           "Class II"
          ],
          [
           "Class II"
          ],
          [
           "Class II"
          ],
          [
           "Class II"
          ],
          [
           "Class II"
          ],
          [
           "Class II"
          ],
          [
           "Class II"
          ],
          [
           "Class II"
          ],
          [
           "Class II"
          ],
          [
           "Class II"
          ],
          [
           "Class II"
          ],
          [
           "Class II"
          ],
          [
           "Class II"
          ],
          [
           "Class II"
          ],
          [
           "Class II"
          ],
          [
           "Class II"
          ],
          [
           "Class II"
          ],
          [
           "Class II"
          ],
          [
           "Class II"
          ],
          [
           "Class II"
          ],
          [
           "Class II"
          ],
          [
           "Class II"
          ],
          [
           "Class II"
          ],
          [
           "Class II"
          ],
          [
           "Class II"
          ],
          [
           "Class II"
          ],
          [
           "Class II"
          ],
          [
           "Class II"
          ],
          [
           "Class II"
          ],
          [
           "Class II"
          ],
          [
           "Class II"
          ],
          [
           "Class II"
          ],
          [
           "Class II"
          ],
          [
           "Class II"
          ],
          [
           "Class II"
          ],
          [
           "Class II"
          ],
          [
           "Class II"
          ],
          [
           "Class II"
          ],
          [
           "Class II"
          ],
          [
           "Class II"
          ],
          [
           "Class II"
          ],
          [
           "Class II"
          ],
          [
           "Class II"
          ],
          [
           "Class II"
          ],
          [
           "Class II"
          ],
          [
           "Class II"
          ],
          [
           "Class II"
          ],
          [
           "Class II"
          ],
          [
           "Class II"
          ],
          [
           "Class II"
          ],
          [
           "Class II"
          ],
          [
           "Class II"
          ],
          [
           "Class II"
          ],
          [
           "Class II"
          ],
          [
           "Class II"
          ],
          [
           "Class II"
          ],
          [
           "Class II"
          ],
          [
           "Class II"
          ],
          [
           "Class II"
          ],
          [
           "Class II"
          ],
          [
           "Class II"
          ],
          [
           "Class II"
          ],
          [
           "Class II"
          ],
          [
           "Class II"
          ],
          [
           "Class II"
          ],
          [
           "Class II"
          ],
          [
           "Class II"
          ],
          [
           "Class II"
          ],
          [
           "Class II"
          ],
          [
           "Class II"
          ],
          [
           "Class II"
          ],
          [
           "Class II"
          ],
          [
           "Class II"
          ],
          [
           "Class II"
          ],
          [
           "Class II"
          ],
          [
           "Class II"
          ],
          [
           "Class II"
          ],
          [
           "Class II"
          ],
          [
           "Class II"
          ],
          [
           "Class II"
          ],
          [
           "Class II"
          ],
          [
           "Class II"
          ],
          [
           "Class II"
          ],
          [
           "Class II"
          ],
          [
           "Class II"
          ],
          [
           "Class II"
          ],
          [
           "Class II"
          ],
          [
           "Class II"
          ],
          [
           "Class II"
          ],
          [
           "Class II"
          ],
          [
           "Class II"
          ],
          [
           "Class II"
          ],
          [
           "Class II"
          ],
          [
           "Class II"
          ],
          [
           "Class II"
          ],
          [
           "Class II"
          ],
          [
           "Class II"
          ],
          [
           "Class II"
          ],
          [
           "Class II"
          ],
          [
           "Class II"
          ],
          [
           "Class II"
          ],
          [
           "Class II"
          ],
          [
           "Class II"
          ],
          [
           "Class II"
          ],
          [
           "Class II"
          ],
          [
           "Class II"
          ],
          [
           "Class II"
          ],
          [
           "Class II"
          ],
          [
           "Class II"
          ],
          [
           "Class II"
          ],
          [
           "Class II"
          ],
          [
           "Class II"
          ],
          [
           "Class II"
          ],
          [
           "Class II"
          ],
          [
           "Class II"
          ],
          [
           "Class II"
          ],
          [
           "Class II"
          ],
          [
           "Class II"
          ],
          [
           "Class II"
          ],
          [
           "Class II"
          ],
          [
           "Class II"
          ],
          [
           "Class II"
          ],
          [
           "Class II"
          ],
          [
           "Class II"
          ],
          [
           "Class II"
          ],
          [
           "Class II"
          ]
         ],
         "hovertemplate": "Actual Class=%{customdata[0]}<br>Date=%{x}<br>Predicted Class=%{y}<extra></extra>",
         "legendgroup": "Class II",
         "marker": {
          "color": "#EF553B",
          "symbol": "diamond"
         },
         "mode": "markers",
         "name": "Class II",
         "orientation": "v",
         "showlegend": true,
         "type": "scatter",
         "x": [
          "2019-10-24T00:00:00",
          "2019-10-30T00:00:00",
          "2019-10-30T00:00:00",
          "2019-10-30T00:00:00",
          "2019-10-30T00:00:00",
          "2019-10-30T00:00:00",
          "2019-12-19T00:00:00",
          "2020-01-06T00:00:00",
          "2020-01-09T00:00:00",
          "2020-01-09T00:00:00",
          "2020-01-09T00:00:00",
          "2020-01-09T00:00:00",
          "2020-01-09T00:00:00",
          "2020-01-09T00:00:00",
          "2020-01-09T00:00:00",
          "2020-01-17T00:00:00",
          "2020-01-28T00:00:00",
          "2020-02-06T00:00:00",
          "2020-02-07T00:00:00",
          "2020-02-07T00:00:00",
          "2020-02-11T00:00:00",
          "2020-02-11T00:00:00",
          "2020-02-12T00:00:00",
          "2020-02-12T00:00:00",
          "2020-02-13T00:00:00",
          "2020-02-13T00:00:00",
          "2020-02-13T00:00:00",
          "2020-02-19T00:00:00",
          "2020-02-21T00:00:00",
          "2020-02-24T00:00:00",
          "2020-02-24T00:00:00",
          "2020-02-27T00:00:00",
          "2020-03-02T00:00:00",
          "2020-03-13T00:00:00",
          "2020-04-20T00:00:00",
          "2020-05-05T00:00:00",
          "2020-05-13T00:00:00",
          "2020-05-20T00:00:00",
          "2020-05-20T00:00:00",
          "2020-06-03T00:00:00",
          "2020-06-17T00:00:00",
          "2020-06-19T00:00:00",
          "2020-06-19T00:00:00",
          "2020-06-19T00:00:00",
          "2020-06-19T00:00:00",
          "2020-06-19T00:00:00",
          "2020-06-19T00:00:00",
          "2020-06-19T00:00:00",
          "2020-06-19T00:00:00",
          "2020-06-19T00:00:00",
          "2020-06-19T00:00:00",
          "2020-06-19T00:00:00",
          "2020-06-19T00:00:00",
          "2020-06-24T00:00:00",
          "2020-06-30T00:00:00",
          "2020-06-30T00:00:00",
          "2020-06-30T00:00:00",
          "2020-06-30T00:00:00",
          "2020-06-30T00:00:00",
          "2020-06-30T00:00:00",
          "2020-06-30T00:00:00",
          "2020-06-30T00:00:00",
          "2020-06-30T00:00:00",
          "2020-06-30T00:00:00",
          "2020-06-30T00:00:00",
          "2020-06-30T00:00:00",
          "2020-06-30T00:00:00",
          "2020-07-23T00:00:00",
          "2020-07-23T00:00:00",
          "2020-08-01T00:00:00",
          "2020-08-02T00:00:00",
          "2020-08-02T00:00:00",
          "2020-08-02T00:00:00",
          "2020-08-02T00:00:00",
          "2020-08-03T00:00:00",
          "2020-08-07T00:00:00",
          "2020-08-07T00:00:00",
          "2020-08-20T00:00:00",
          "2020-08-21T00:00:00",
          "2020-08-26T00:00:00",
          "2020-08-28T00:00:00",
          "2020-08-28T00:00:00",
          "2020-08-28T00:00:00",
          "2020-09-09T00:00:00",
          "2020-09-17T00:00:00",
          "2020-09-23T00:00:00",
          "2020-10-16T00:00:00",
          "2020-11-05T00:00:00",
          "2020-11-06T00:00:00",
          "2020-11-30T00:00:00",
          "2020-11-30T00:00:00",
          "2020-12-02T00:00:00",
          "2020-12-21T00:00:00",
          "2020-12-22T00:00:00",
          "2020-12-30T00:00:00",
          "2021-01-05T00:00:00",
          "2021-01-07T00:00:00",
          "2021-01-10T00:00:00",
          "2021-01-15T00:00:00",
          "2021-01-15T00:00:00",
          "2021-01-28T00:00:00",
          "2021-02-03T00:00:00",
          "2021-02-03T00:00:00",
          "2021-02-04T00:00:00",
          "2021-02-05T00:00:00",
          "2021-02-09T00:00:00",
          "2021-03-10T00:00:00",
          "2021-03-16T00:00:00",
          "2021-03-16T00:00:00",
          "2021-03-30T00:00:00",
          "2021-04-05T00:00:00",
          "2021-04-08T00:00:00",
          "2021-04-12T00:00:00",
          "2021-04-13T00:00:00",
          "2021-04-13T00:00:00",
          "2021-04-14T00:00:00",
          "2021-04-14T00:00:00",
          "2021-04-19T00:00:00",
          "2021-04-19T00:00:00",
          "2021-04-26T00:00:00",
          "2021-04-27T00:00:00",
          "2021-04-27T00:00:00",
          "2021-04-27T00:00:00",
          "2021-04-27T00:00:00",
          "2021-04-27T00:00:00",
          "2021-05-06T00:00:00",
          "2021-05-06T00:00:00",
          "2021-05-11T00:00:00",
          "2021-05-15T00:00:00",
          "2021-05-15T00:00:00",
          "2021-05-15T00:00:00",
          "2021-05-15T00:00:00",
          "2021-05-28T00:00:00",
          "2021-06-02T00:00:00",
          "2021-06-14T00:00:00",
          "2021-06-18T00:00:00",
          "2021-06-21T00:00:00",
          "2021-06-21T00:00:00",
          "2021-06-29T00:00:00",
          "2021-07-06T00:00:00",
          "2021-07-17T00:00:00",
          "2021-07-17T00:00:00",
          "2021-07-17T00:00:00",
          "2021-07-17T00:00:00",
          "2021-07-17T00:00:00",
          "2021-07-29T00:00:00",
          "2021-08-07T00:00:00",
          "2021-08-08T00:00:00",
          "2021-08-08T00:00:00",
          "2021-08-11T00:00:00",
          "2021-08-13T00:00:00",
          "2021-08-13T00:00:00",
          "2021-08-13T00:00:00",
          "2021-08-13T00:00:00",
          "2021-09-10T00:00:00",
          "2021-09-13T00:00:00",
          "2021-09-15T00:00:00",
          "2021-09-15T00:00:00",
          "2021-09-15T00:00:00",
          "2021-09-15T00:00:00",
          "2021-09-17T00:00:00",
          "2021-10-05T00:00:00",
          "2021-10-05T00:00:00",
          "2021-10-05T00:00:00",
          "2021-10-07T00:00:00",
          "2021-10-13T00:00:00",
          "2021-10-19T00:00:00",
          "2021-10-21T00:00:00",
          "2021-10-29T00:00:00",
          "2021-10-29T00:00:00",
          "2021-10-29T00:00:00",
          "2021-10-29T00:00:00",
          "2021-10-31T00:00:00",
          "2021-11-11T00:00:00",
          "2021-11-11T00:00:00",
          "2021-11-11T00:00:00",
          "2021-11-17T00:00:00",
          "2021-11-24T00:00:00",
          "2021-12-01T00:00:00",
          "2021-12-10T00:00:00",
          "2021-12-13T00:00:00",
          "2021-12-16T00:00:00",
          "2021-12-16T00:00:00",
          "2021-12-17T00:00:00",
          "2021-12-22T00:00:00",
          "2022-01-03T00:00:00",
          "2022-01-06T00:00:00",
          "2022-01-12T00:00:00",
          "2022-01-12T00:00:00",
          "2022-01-13T00:00:00",
          "2022-01-18T00:00:00",
          "2022-01-21T00:00:00",
          "2022-01-26T00:00:00",
          "2022-02-02T00:00:00",
          "2022-02-23T00:00:00",
          "2022-02-23T00:00:00",
          "2022-02-24T00:00:00",
          "2022-02-25T00:00:00",
          "2022-03-03T00:00:00",
          "2022-03-04T00:00:00",
          "2022-03-07T00:00:00",
          "2022-03-07T00:00:00",
          "2022-03-08T00:00:00",
          "2022-03-10T00:00:00",
          "2022-03-10T00:00:00",
          "2022-03-10T00:00:00",
          "2022-03-10T00:00:00",
          "2022-03-23T00:00:00",
          "2022-04-18T00:00:00",
          "2022-04-28T00:00:00",
          "2022-04-28T00:00:00",
          "2022-04-28T00:00:00",
          "2022-04-28T00:00:00",
          "2022-04-28T00:00:00",
          "2022-04-28T00:00:00",
          "2022-04-28T00:00:00",
          "2022-04-28T00:00:00",
          "2022-04-28T00:00:00",
          "2022-04-29T00:00:00",
          "2022-05-03T00:00:00",
          "2022-05-05T00:00:00",
          "2022-05-06T00:00:00",
          "2022-05-06T00:00:00",
          "2022-05-20T00:00:00",
          "2022-06-03T00:00:00",
          "2022-06-09T00:00:00",
          "2022-06-16T00:00:00",
          "2022-06-22T00:00:00",
          "2022-06-30T00:00:00",
          "2022-06-30T00:00:00",
          "2022-07-12T00:00:00",
          "2022-07-14T00:00:00",
          "2022-07-15T00:00:00",
          "2022-07-19T00:00:00",
          "2022-07-19T00:00:00",
          "2022-07-29T00:00:00",
          "2022-07-29T00:00:00",
          "2022-07-29T00:00:00",
          "2022-07-29T00:00:00",
          "2022-07-29T00:00:00",
          "2022-08-12T00:00:00",
          "2022-08-17T00:00:00",
          "2022-08-17T00:00:00",
          "2022-08-19T00:00:00",
          "2022-09-16T00:00:00",
          "2022-09-23T00:00:00",
          "2022-09-23T00:00:00",
          "2022-09-23T00:00:00",
          "2022-10-13T00:00:00",
          "2022-10-13T00:00:00",
          "2022-10-13T00:00:00",
          "2022-10-25T00:00:00",
          "2022-11-07T00:00:00",
          "2022-11-21T00:00:00",
          "2022-11-21T00:00:00",
          "2022-11-21T00:00:00",
          "2022-12-12T00:00:00",
          "2022-12-18T00:00:00",
          "2022-12-18T00:00:00",
          "2022-12-18T00:00:00",
          "2022-12-18T00:00:00",
          "2022-12-18T00:00:00",
          "2022-12-22T00:00:00",
          "2022-12-22T00:00:00",
          "2022-12-22T00:00:00",
          "2022-12-29T00:00:00",
          "2022-12-29T00:00:00",
          "2022-12-29T00:00:00",
          "2023-01-25T00:00:00",
          "2023-01-25T00:00:00",
          "2023-01-28T00:00:00",
          "2023-02-02T00:00:00",
          "2023-02-02T00:00:00",
          "2023-02-07T00:00:00",
          "2023-02-10T00:00:00",
          "2023-02-15T00:00:00",
          "2023-02-15T00:00:00",
          "2023-02-16T00:00:00",
          "2023-02-23T00:00:00",
          "2023-02-23T00:00:00",
          "2023-02-23T00:00:00",
          "2023-02-23T00:00:00",
          "2023-02-23T00:00:00",
          "2023-02-23T00:00:00",
          "2023-02-23T00:00:00",
          "2023-02-23T00:00:00",
          "2023-02-23T00:00:00",
          "2023-02-28T00:00:00",
          "2023-03-03T00:00:00",
          "2023-03-03T00:00:00",
          "2023-03-03T00:00:00",
          "2023-03-16T00:00:00",
          "2023-03-17T00:00:00",
          "2023-03-22T00:00:00",
          "2023-03-22T00:00:00",
          "2023-03-27T00:00:00",
          "2023-03-28T00:00:00",
          "2023-03-30T00:00:00",
          "2023-03-30T00:00:00",
          "2023-03-30T00:00:00",
          "2023-03-30T00:00:00",
          "2023-04-03T00:00:00",
          "2023-04-04T00:00:00",
          "2023-04-10T00:00:00",
          "2023-04-13T00:00:00",
          "2023-04-13T00:00:00",
          "2023-04-13T00:00:00",
          "2023-04-18T00:00:00",
          "2023-04-18T00:00:00",
          "2023-04-18T00:00:00",
          "2023-05-08T00:00:00",
          "2023-05-25T00:00:00",
          "2023-05-25T00:00:00",
          "2023-06-01T00:00:00",
          "2023-06-08T00:00:00",
          "2023-06-09T00:00:00",
          "2023-06-26T00:00:00",
          "2023-06-30T00:00:00",
          "2023-06-30T00:00:00",
          "2023-07-03T00:00:00",
          "2023-07-03T00:00:00",
          "2023-07-03T00:00:00",
          "2023-07-03T00:00:00",
          "2023-07-14T00:00:00",
          "2023-07-18T00:00:00",
          "2023-07-19T00:00:00",
          "2023-07-19T00:00:00",
          "2023-07-20T00:00:00",
          "2023-08-15T00:00:00",
          "2023-08-22T00:00:00",
          "2023-08-22T00:00:00",
          "2023-08-22T00:00:00",
          "2023-08-22T00:00:00",
          "2023-08-22T00:00:00",
          "2023-08-22T00:00:00",
          "2023-08-22T00:00:00",
          "2023-08-22T00:00:00",
          "2023-08-22T00:00:00",
          "2023-08-22T00:00:00",
          "2023-08-31T00:00:00",
          "2023-08-31T00:00:00",
          "2023-09-14T00:00:00",
          "2023-09-21T00:00:00",
          "2023-09-21T00:00:00",
          "2023-10-02T00:00:00",
          "2023-10-13T00:00:00",
          "2023-11-03T00:00:00",
          "2023-11-03T00:00:00",
          "2023-12-07T00:00:00",
          "2023-12-13T00:00:00",
          "2023-12-15T00:00:00",
          "2023-12-15T00:00:00",
          "2023-12-15T00:00:00",
          "2023-12-15T00:00:00",
          "2023-12-15T00:00:00",
          "2023-12-15T00:00:00",
          "2023-12-15T00:00:00",
          "2023-12-15T00:00:00",
          "2023-12-15T00:00:00",
          "2023-12-15T00:00:00",
          "2024-01-04T00:00:00",
          "2024-01-05T00:00:00",
          "2024-01-11T00:00:00",
          "2024-01-11T00:00:00",
          "2024-01-11T00:00:00",
          "2024-01-11T00:00:00",
          "2024-01-11T00:00:00",
          "2024-01-11T00:00:00",
          "2024-01-12T00:00:00",
          "2024-01-30T00:00:00",
          "2024-01-30T00:00:00",
          "2024-01-30T00:00:00",
          "2024-01-31T00:00:00",
          "2024-02-01T00:00:00",
          "2024-02-01T00:00:00",
          "2024-02-01T00:00:00",
          "2024-02-07T00:00:00",
          "2024-02-16T00:00:00",
          "2024-02-27T00:00:00",
          "2024-03-06T00:00:00",
          "2024-03-07T00:00:00",
          "2024-03-08T00:00:00",
          "2024-03-08T00:00:00",
          "2024-03-15T00:00:00",
          "2024-03-18T00:00:00",
          "2024-03-21T00:00:00",
          "2024-03-26T00:00:00",
          "2024-03-29T00:00:00",
          "2024-03-29T00:00:00",
          "2024-04-10T00:00:00",
          "2024-04-18T00:00:00",
          "2024-04-18T00:00:00",
          "2024-04-27T00:00:00",
          "2024-05-02T00:00:00",
          "2024-05-02T00:00:00",
          "2024-05-03T00:00:00",
          "2024-05-03T00:00:00",
          "2024-05-03T00:00:00",
          "2024-06-10T00:00:00",
          "2024-06-10T00:00:00",
          "2024-06-10T00:00:00",
          "2024-06-10T00:00:00",
          "2024-06-10T00:00:00",
          "2024-06-13T00:00:00",
          "2024-06-13T00:00:00",
          "2024-06-13T00:00:00",
          "2024-06-13T00:00:00",
          "2024-06-13T00:00:00",
          "2024-06-13T00:00:00",
          "2024-06-13T00:00:00",
          "2024-06-13T00:00:00",
          "2024-06-13T00:00:00",
          "2024-06-13T00:00:00",
          "2024-06-13T00:00:00",
          "2024-06-21T00:00:00",
          "2024-07-29T00:00:00",
          "2024-07-29T00:00:00",
          "2024-07-30T00:00:00",
          "2024-08-02T00:00:00",
          "2024-08-02T00:00:00",
          "2024-09-11T00:00:00",
          "2024-10-23T00:00:00"
         ],
         "xaxis": "x",
         "y": [
          "Class II",
          "Class II",
          "Class II",
          "Class II",
          "Class II",
          "Class II",
          "Class I",
          "Class II",
          "Class II",
          "Class II",
          "Class II",
          "Class II",
          "Class II",
          "Class II",
          "Class II",
          "Class II",
          "Class II",
          "Class II",
          "Class II",
          "Class II",
          "Class II",
          "Class II",
          "Class II",
          "Class II",
          "Class II",
          "Class II",
          "Class II",
          "Class II",
          "Class II",
          "Class II",
          "Class II",
          "Class II",
          "Class II",
          "Class II",
          "Class II",
          "Class II",
          "Class II",
          "Class II",
          "Class II",
          "Class II",
          "Class II",
          "Class II",
          "Class II",
          "Class II",
          "Class II",
          "Class II",
          "Class II",
          "Class II",
          "Class II",
          "Class II",
          "Class II",
          "Class II",
          "Class II",
          "Class II",
          "Class II",
          "Class II",
          "Class II",
          "Class II",
          "Class II",
          "Class II",
          "Class II",
          "Class II",
          "Class II",
          "Class II",
          "Class II",
          "Class II",
          "Class II",
          "Class II",
          "Class II",
          "Class II",
          "Class I",
          "Class I",
          "Class I",
          "Class I",
          "Class I",
          "Class II",
          "Class II",
          "Class II",
          "Class II",
          "Class II",
          "Class II",
          "Class II",
          "Class II",
          "Class II",
          "Class II",
          "Class II",
          "Class II",
          "Class II",
          "Class II",
          "Class II",
          "Class II",
          "Class I",
          "Class II",
          "Class II",
          "Class II",
          "Class II",
          "Class II",
          "Class II",
          "Class II",
          "Class II",
          "Class II",
          "Class II",
          "Class II",
          "Class II",
          "Class II",
          "Class II",
          "Class II",
          "Class II",
          "Class II",
          "Class II",
          "Class II",
          "Class II",
          "Class II",
          "Class II",
          "Class II",
          "Class II",
          "Class II",
          "Class II",
          "Class II",
          "Class II",
          "Class II",
          "Class II",
          "Class II",
          "Class II",
          "Class II",
          "Class II",
          "Class II",
          "Class II",
          "Class II",
          "Class II",
          "Class II",
          "Class II",
          "Class II",
          "Class II",
          "Class II",
          "Class II",
          "Class II",
          "Class II",
          "Class I",
          "Class II",
          "Class II",
          "Class II",
          "Class II",
          "Class II",
          "Class II",
          "Class II",
          "Class II",
          "Class II",
          "Class II",
          "Class II",
          "Class II",
          "Class II",
          "Class II",
          "Class II",
          "Class II",
          "Class II",
          "Class II",
          "Class II",
          "Class II",
          "Class II",
          "Class II",
          "Class II",
          "Class II",
          "Class II",
          "Class II",
          "Class II",
          "Class II",
          "Class II",
          "Class II",
          "Class II",
          "Class II",
          "Class II",
          "Class II",
          "Class II",
          "Class II",
          "Class II",
          "Class II",
          "Class II",
          "Class II",
          "Class II",
          "Class II",
          "Class II",
          "Class II",
          "Class II",
          "Class II",
          "Class II",
          "Class II",
          "Class II",
          "Class II",
          "Class II",
          "Class II",
          "Class II",
          "Class II",
          "Class II",
          "Class II",
          "Class II",
          "Class II",
          "Class II",
          "Class II",
          "Class II",
          "Class II",
          "Class II",
          "Class II",
          "Class II",
          "Class II",
          "Class II",
          "Class II",
          "Class II",
          "Class II",
          "Class II",
          "Class II",
          "Class II",
          "Class II",
          "Class II",
          "Class II",
          "Class II",
          "Class II",
          "Class II",
          "Class II",
          "Class II",
          "Class II",
          "Class II",
          "Class II",
          "Class I",
          "Class II",
          "Class II",
          "Class II",
          "Class II",
          "Class II",
          "Class II",
          "Class II",
          "Class II",
          "Class II",
          "Class II",
          "Class II",
          "Class II",
          "Class II",
          "Class II",
          "Class II",
          "Class II",
          "Class II",
          "Class II",
          "Class II",
          "Class II",
          "Class II",
          "Class II",
          "Class II",
          "Class II",
          "Class II",
          "Class II",
          "Class II",
          "Class II",
          "Class II",
          "Class II",
          "Class II",
          "Class II",
          "Class II",
          "Class II",
          "Class II",
          "Class II",
          "Class II",
          "Class II",
          "Class II",
          "Class II",
          "Class II",
          "Class II",
          "Class II",
          "Class II",
          "Class II",
          "Class II",
          "Class II",
          "Class II",
          "Class II",
          "Class II",
          "Class I",
          "Class II",
          "Class II",
          "Class II",
          "Class II",
          "Class II",
          "Class II",
          "Class II",
          "Class II",
          "Class II",
          "Class II",
          "Class II",
          "Class II",
          "Class II",
          "Class II",
          "Class II",
          "Class II",
          "Class II",
          "Class II",
          "Class II",
          "Class II",
          "Class II",
          "Class II",
          "Class II",
          "Class II",
          "Class II",
          "Class II",
          "Class II",
          "Class II",
          "Class II",
          "Class II",
          "Class II",
          "Class II",
          "Class II",
          "Class II",
          "Class II",
          "Class I",
          "Class II",
          "Class II",
          "Class I",
          "Class II",
          "Class II",
          "Class II",
          "Class III",
          "Class III",
          "Class II",
          "Class II",
          "Class II",
          "Class II",
          "Class II",
          "Class II",
          "Class II",
          "Class II",
          "Class II",
          "Class I",
          "Class II",
          "Class II",
          "Class II",
          "Class II",
          "Class II",
          "Class II",
          "Class II",
          "Class II",
          "Class II",
          "Class II",
          "Class II",
          "Class II",
          "Class II",
          "Class II",
          "Class II",
          "Class II",
          "Class II",
          "Class II",
          "Class II",
          "Class II",
          "Class II",
          "Class II",
          "Class II",
          "Class II",
          "Class II",
          "Class II",
          "Class II",
          "Class II",
          "Class II",
          "Class II",
          "Class II",
          "Class II",
          "Class II",
          "Class II",
          "Class II",
          "Class II",
          "Class II",
          "Class II",
          "Class II",
          "Class II",
          "Class II",
          "Class II",
          "Class II",
          "Class II",
          "Class II",
          "Class II",
          "Class II",
          "Class II",
          "Class II",
          "Class II",
          "Class II",
          "Class II",
          "Class II",
          "Class II",
          "Class II",
          "Class II",
          "Class II",
          "Class II",
          "Class II",
          "Class II",
          "Class II",
          "Class II",
          "Class II",
          "Class II",
          "Class II",
          "Class II",
          "Class II",
          "Class II",
          "Class II",
          "Class II",
          "Class II",
          "Class II",
          "Class II",
          "Class II",
          "Class II",
          "Class II",
          "Class II",
          "Class II",
          "Class II",
          "Class II",
          "Class II",
          "Class II",
          "Class II",
          "Class II",
          "Class II",
          "Class II",
          "Class II",
          "Class II",
          "Class II",
          "Class I",
          "Class I",
          "Class III",
          "Class II"
         ],
         "yaxis": "y"
        },
        {
         "customdata": [
          [
           "Class III"
          ],
          [
           "Class III"
          ],
          [
           "Class III"
          ],
          [
           "Class III"
          ],
          [
           "Class III"
          ],
          [
           "Class III"
          ],
          [
           "Class III"
          ],
          [
           "Class III"
          ],
          [
           "Class III"
          ],
          [
           "Class III"
          ],
          [
           "Class III"
          ],
          [
           "Class III"
          ],
          [
           "Class III"
          ],
          [
           "Class III"
          ],
          [
           "Class III"
          ],
          [
           "Class III"
          ],
          [
           "Class III"
          ],
          [
           "Class III"
          ],
          [
           "Class III"
          ],
          [
           "Class III"
          ],
          [
           "Class III"
          ],
          [
           "Class III"
          ],
          [
           "Class III"
          ],
          [
           "Class III"
          ],
          [
           "Class III"
          ],
          [
           "Class III"
          ],
          [
           "Class III"
          ],
          [
           "Class III"
          ],
          [
           "Class III"
          ],
          [
           "Class III"
          ],
          [
           "Class III"
          ],
          [
           "Class III"
          ],
          [
           "Class III"
          ],
          [
           "Class III"
          ],
          [
           "Class III"
          ],
          [
           "Class III"
          ],
          [
           "Class III"
          ]
         ],
         "hovertemplate": "Actual Class=%{customdata[0]}<br>Date=%{x}<br>Predicted Class=%{y}<extra></extra>",
         "legendgroup": "Class III",
         "marker": {
          "color": "#00cc96",
          "symbol": "square"
         },
         "mode": "markers",
         "name": "Class III",
         "orientation": "v",
         "showlegend": true,
         "type": "scatter",
         "x": [
          "2020-02-08T00:00:00",
          "2020-02-24T00:00:00",
          "2020-02-24T00:00:00",
          "2020-03-27T00:00:00",
          "2020-04-01T00:00:00",
          "2020-04-06T00:00:00",
          "2020-06-11T00:00:00",
          "2020-08-06T00:00:00",
          "2020-10-21T00:00:00",
          "2021-03-08T00:00:00",
          "2021-04-07T00:00:00",
          "2021-05-25T00:00:00",
          "2021-08-23T00:00:00",
          "2021-11-30T00:00:00",
          "2022-06-03T00:00:00",
          "2022-06-09T00:00:00",
          "2022-08-16T00:00:00",
          "2022-08-16T00:00:00",
          "2022-08-29T00:00:00",
          "2022-11-15T00:00:00",
          "2022-11-28T00:00:00",
          "2023-01-13T00:00:00",
          "2023-01-19T00:00:00",
          "2023-01-20T00:00:00",
          "2023-01-20T00:00:00",
          "2023-01-31T00:00:00",
          "2023-03-13T00:00:00",
          "2023-04-04T00:00:00",
          "2023-04-24T00:00:00",
          "2023-07-06T00:00:00",
          "2023-07-06T00:00:00",
          "2023-07-06T00:00:00",
          "2024-01-25T00:00:00",
          "2024-07-01T00:00:00",
          "2024-07-01T00:00:00",
          "2024-07-22T00:00:00",
          "2024-09-11T00:00:00"
         ],
         "xaxis": "x",
         "y": [
          "Class II",
          "Class III",
          "Class III",
          "Class II",
          "Class III",
          "Class III",
          "Class III",
          "Class III",
          "Class III",
          "Class III",
          "Class III",
          "Class II",
          "Class III",
          "Class III",
          "Class III",
          "Class III",
          "Class III",
          "Class III",
          "Class III",
          "Class II",
          "Class III",
          "Class III",
          "Class III",
          "Class III",
          "Class III",
          "Class III",
          "Class III",
          "Class III",
          "Class III",
          "Class III",
          "Class III",
          "Class III",
          "Class III",
          "Class III",
          "Class III",
          "Class III",
          "Class III"
         ],
         "yaxis": "y"
        }
       ],
       "layout": {
        "legend": {
         "title": {
          "text": "Actual Class"
         },
         "tracegroupgap": 0
        },
        "template": {
         "data": {
          "bar": [
           {
            "error_x": {
             "color": "#2a3f5f"
            },
            "error_y": {
             "color": "#2a3f5f"
            },
            "marker": {
             "line": {
              "color": "#E5ECF6",
              "width": 0.5
             },
             "pattern": {
              "fillmode": "overlay",
              "size": 10,
              "solidity": 0.2
             }
            },
            "type": "bar"
           }
          ],
          "barpolar": [
           {
            "marker": {
             "line": {
              "color": "#E5ECF6",
              "width": 0.5
             },
             "pattern": {
              "fillmode": "overlay",
              "size": 10,
              "solidity": 0.2
             }
            },
            "type": "barpolar"
           }
          ],
          "carpet": [
           {
            "aaxis": {
             "endlinecolor": "#2a3f5f",
             "gridcolor": "white",
             "linecolor": "white",
             "minorgridcolor": "white",
             "startlinecolor": "#2a3f5f"
            },
            "baxis": {
             "endlinecolor": "#2a3f5f",
             "gridcolor": "white",
             "linecolor": "white",
             "minorgridcolor": "white",
             "startlinecolor": "#2a3f5f"
            },
            "type": "carpet"
           }
          ],
          "choropleth": [
           {
            "colorbar": {
             "outlinewidth": 0,
             "ticks": ""
            },
            "type": "choropleth"
           }
          ],
          "contour": [
           {
            "colorbar": {
             "outlinewidth": 0,
             "ticks": ""
            },
            "colorscale": [
             [
              0,
              "#0d0887"
             ],
             [
              0.1111111111111111,
              "#46039f"
             ],
             [
              0.2222222222222222,
              "#7201a8"
             ],
             [
              0.3333333333333333,
              "#9c179e"
             ],
             [
              0.4444444444444444,
              "#bd3786"
             ],
             [
              0.5555555555555556,
              "#d8576b"
             ],
             [
              0.6666666666666666,
              "#ed7953"
             ],
             [
              0.7777777777777778,
              "#fb9f3a"
             ],
             [
              0.8888888888888888,
              "#fdca26"
             ],
             [
              1,
              "#f0f921"
             ]
            ],
            "type": "contour"
           }
          ],
          "contourcarpet": [
           {
            "colorbar": {
             "outlinewidth": 0,
             "ticks": ""
            },
            "type": "contourcarpet"
           }
          ],
          "heatmap": [
           {
            "colorbar": {
             "outlinewidth": 0,
             "ticks": ""
            },
            "colorscale": [
             [
              0,
              "#0d0887"
             ],
             [
              0.1111111111111111,
              "#46039f"
             ],
             [
              0.2222222222222222,
              "#7201a8"
             ],
             [
              0.3333333333333333,
              "#9c179e"
             ],
             [
              0.4444444444444444,
              "#bd3786"
             ],
             [
              0.5555555555555556,
              "#d8576b"
             ],
             [
              0.6666666666666666,
              "#ed7953"
             ],
             [
              0.7777777777777778,
              "#fb9f3a"
             ],
             [
              0.8888888888888888,
              "#fdca26"
             ],
             [
              1,
              "#f0f921"
             ]
            ],
            "type": "heatmap"
           }
          ],
          "heatmapgl": [
           {
            "colorbar": {
             "outlinewidth": 0,
             "ticks": ""
            },
            "colorscale": [
             [
              0,
              "#0d0887"
             ],
             [
              0.1111111111111111,
              "#46039f"
             ],
             [
              0.2222222222222222,
              "#7201a8"
             ],
             [
              0.3333333333333333,
              "#9c179e"
             ],
             [
              0.4444444444444444,
              "#bd3786"
             ],
             [
              0.5555555555555556,
              "#d8576b"
             ],
             [
              0.6666666666666666,
              "#ed7953"
             ],
             [
              0.7777777777777778,
              "#fb9f3a"
             ],
             [
              0.8888888888888888,
              "#fdca26"
             ],
             [
              1,
              "#f0f921"
             ]
            ],
            "type": "heatmapgl"
           }
          ],
          "histogram": [
           {
            "marker": {
             "pattern": {
              "fillmode": "overlay",
              "size": 10,
              "solidity": 0.2
             }
            },
            "type": "histogram"
           }
          ],
          "histogram2d": [
           {
            "colorbar": {
             "outlinewidth": 0,
             "ticks": ""
            },
            "colorscale": [
             [
              0,
              "#0d0887"
             ],
             [
              0.1111111111111111,
              "#46039f"
             ],
             [
              0.2222222222222222,
              "#7201a8"
             ],
             [
              0.3333333333333333,
              "#9c179e"
             ],
             [
              0.4444444444444444,
              "#bd3786"
             ],
             [
              0.5555555555555556,
              "#d8576b"
             ],
             [
              0.6666666666666666,
              "#ed7953"
             ],
             [
              0.7777777777777778,
              "#fb9f3a"
             ],
             [
              0.8888888888888888,
              "#fdca26"
             ],
             [
              1,
              "#f0f921"
             ]
            ],
            "type": "histogram2d"
           }
          ],
          "histogram2dcontour": [
           {
            "colorbar": {
             "outlinewidth": 0,
             "ticks": ""
            },
            "colorscale": [
             [
              0,
              "#0d0887"
             ],
             [
              0.1111111111111111,
              "#46039f"
             ],
             [
              0.2222222222222222,
              "#7201a8"
             ],
             [
              0.3333333333333333,
              "#9c179e"
             ],
             [
              0.4444444444444444,
              "#bd3786"
             ],
             [
              0.5555555555555556,
              "#d8576b"
             ],
             [
              0.6666666666666666,
              "#ed7953"
             ],
             [
              0.7777777777777778,
              "#fb9f3a"
             ],
             [
              0.8888888888888888,
              "#fdca26"
             ],
             [
              1,
              "#f0f921"
             ]
            ],
            "type": "histogram2dcontour"
           }
          ],
          "mesh3d": [
           {
            "colorbar": {
             "outlinewidth": 0,
             "ticks": ""
            },
            "type": "mesh3d"
           }
          ],
          "parcoords": [
           {
            "line": {
             "colorbar": {
              "outlinewidth": 0,
              "ticks": ""
             }
            },
            "type": "parcoords"
           }
          ],
          "pie": [
           {
            "automargin": true,
            "type": "pie"
           }
          ],
          "scatter": [
           {
            "fillpattern": {
             "fillmode": "overlay",
             "size": 10,
             "solidity": 0.2
            },
            "type": "scatter"
           }
          ],
          "scatter3d": [
           {
            "line": {
             "colorbar": {
              "outlinewidth": 0,
              "ticks": ""
             }
            },
            "marker": {
             "colorbar": {
              "outlinewidth": 0,
              "ticks": ""
             }
            },
            "type": "scatter3d"
           }
          ],
          "scattercarpet": [
           {
            "marker": {
             "colorbar": {
              "outlinewidth": 0,
              "ticks": ""
             }
            },
            "type": "scattercarpet"
           }
          ],
          "scattergeo": [
           {
            "marker": {
             "colorbar": {
              "outlinewidth": 0,
              "ticks": ""
             }
            },
            "type": "scattergeo"
           }
          ],
          "scattergl": [
           {
            "marker": {
             "colorbar": {
              "outlinewidth": 0,
              "ticks": ""
             }
            },
            "type": "scattergl"
           }
          ],
          "scattermapbox": [
           {
            "marker": {
             "colorbar": {
              "outlinewidth": 0,
              "ticks": ""
             }
            },
            "type": "scattermapbox"
           }
          ],
          "scatterpolar": [
           {
            "marker": {
             "colorbar": {
              "outlinewidth": 0,
              "ticks": ""
             }
            },
            "type": "scatterpolar"
           }
          ],
          "scatterpolargl": [
           {
            "marker": {
             "colorbar": {
              "outlinewidth": 0,
              "ticks": ""
             }
            },
            "type": "scatterpolargl"
           }
          ],
          "scatterternary": [
           {
            "marker": {
             "colorbar": {
              "outlinewidth": 0,
              "ticks": ""
             }
            },
            "type": "scatterternary"
           }
          ],
          "surface": [
           {
            "colorbar": {
             "outlinewidth": 0,
             "ticks": ""
            },
            "colorscale": [
             [
              0,
              "#0d0887"
             ],
             [
              0.1111111111111111,
              "#46039f"
             ],
             [
              0.2222222222222222,
              "#7201a8"
             ],
             [
              0.3333333333333333,
              "#9c179e"
             ],
             [
              0.4444444444444444,
              "#bd3786"
             ],
             [
              0.5555555555555556,
              "#d8576b"
             ],
             [
              0.6666666666666666,
              "#ed7953"
             ],
             [
              0.7777777777777778,
              "#fb9f3a"
             ],
             [
              0.8888888888888888,
              "#fdca26"
             ],
             [
              1,
              "#f0f921"
             ]
            ],
            "type": "surface"
           }
          ],
          "table": [
           {
            "cells": {
             "fill": {
              "color": "#EBF0F8"
             },
             "line": {
              "color": "white"
             }
            },
            "header": {
             "fill": {
              "color": "#C8D4E3"
             },
             "line": {
              "color": "white"
             }
            },
            "type": "table"
           }
          ]
         },
         "layout": {
          "annotationdefaults": {
           "arrowcolor": "#2a3f5f",
           "arrowhead": 0,
           "arrowwidth": 1
          },
          "autotypenumbers": "strict",
          "coloraxis": {
           "colorbar": {
            "outlinewidth": 0,
            "ticks": ""
           }
          },
          "colorscale": {
           "diverging": [
            [
             0,
             "#8e0152"
            ],
            [
             0.1,
             "#c51b7d"
            ],
            [
             0.2,
             "#de77ae"
            ],
            [
             0.3,
             "#f1b6da"
            ],
            [
             0.4,
             "#fde0ef"
            ],
            [
             0.5,
             "#f7f7f7"
            ],
            [
             0.6,
             "#e6f5d0"
            ],
            [
             0.7,
             "#b8e186"
            ],
            [
             0.8,
             "#7fbc41"
            ],
            [
             0.9,
             "#4d9221"
            ],
            [
             1,
             "#276419"
            ]
           ],
           "sequential": [
            [
             0,
             "#0d0887"
            ],
            [
             0.1111111111111111,
             "#46039f"
            ],
            [
             0.2222222222222222,
             "#7201a8"
            ],
            [
             0.3333333333333333,
             "#9c179e"
            ],
            [
             0.4444444444444444,
             "#bd3786"
            ],
            [
             0.5555555555555556,
             "#d8576b"
            ],
            [
             0.6666666666666666,
             "#ed7953"
            ],
            [
             0.7777777777777778,
             "#fb9f3a"
            ],
            [
             0.8888888888888888,
             "#fdca26"
            ],
            [
             1,
             "#f0f921"
            ]
           ],
           "sequentialminus": [
            [
             0,
             "#0d0887"
            ],
            [
             0.1111111111111111,
             "#46039f"
            ],
            [
             0.2222222222222222,
             "#7201a8"
            ],
            [
             0.3333333333333333,
             "#9c179e"
            ],
            [
             0.4444444444444444,
             "#bd3786"
            ],
            [
             0.5555555555555556,
             "#d8576b"
            ],
            [
             0.6666666666666666,
             "#ed7953"
            ],
            [
             0.7777777777777778,
             "#fb9f3a"
            ],
            [
             0.8888888888888888,
             "#fdca26"
            ],
            [
             1,
             "#f0f921"
            ]
           ]
          },
          "colorway": [
           "#636efa",
           "#EF553B",
           "#00cc96",
           "#ab63fa",
           "#FFA15A",
           "#19d3f3",
           "#FF6692",
           "#B6E880",
           "#FF97FF",
           "#FECB52"
          ],
          "font": {
           "color": "#2a3f5f"
          },
          "geo": {
           "bgcolor": "white",
           "lakecolor": "white",
           "landcolor": "#E5ECF6",
           "showlakes": true,
           "showland": true,
           "subunitcolor": "white"
          },
          "hoverlabel": {
           "align": "left"
          },
          "hovermode": "closest",
          "mapbox": {
           "style": "light"
          },
          "paper_bgcolor": "white",
          "plot_bgcolor": "#E5ECF6",
          "polar": {
           "angularaxis": {
            "gridcolor": "white",
            "linecolor": "white",
            "ticks": ""
           },
           "bgcolor": "#E5ECF6",
           "radialaxis": {
            "gridcolor": "white",
            "linecolor": "white",
            "ticks": ""
           }
          },
          "scene": {
           "xaxis": {
            "backgroundcolor": "#E5ECF6",
            "gridcolor": "white",
            "gridwidth": 2,
            "linecolor": "white",
            "showbackground": true,
            "ticks": "",
            "zerolinecolor": "white"
           },
           "yaxis": {
            "backgroundcolor": "#E5ECF6",
            "gridcolor": "white",
            "gridwidth": 2,
            "linecolor": "white",
            "showbackground": true,
            "ticks": "",
            "zerolinecolor": "white"
           },
           "zaxis": {
            "backgroundcolor": "#E5ECF6",
            "gridcolor": "white",
            "gridwidth": 2,
            "linecolor": "white",
            "showbackground": true,
            "ticks": "",
            "zerolinecolor": "white"
           }
          },
          "shapedefaults": {
           "line": {
            "color": "#2a3f5f"
           }
          },
          "ternary": {
           "aaxis": {
            "gridcolor": "white",
            "linecolor": "white",
            "ticks": ""
           },
           "baxis": {
            "gridcolor": "white",
            "linecolor": "white",
            "ticks": ""
           },
           "bgcolor": "#E5ECF6",
           "caxis": {
            "gridcolor": "white",
            "linecolor": "white",
            "ticks": ""
           }
          },
          "title": {
           "x": 0.05
          },
          "xaxis": {
           "automargin": true,
           "gridcolor": "white",
           "linecolor": "white",
           "ticks": "",
           "title": {
            "standoff": 15
           },
           "zerolinecolor": "white",
           "zerolinewidth": 2
          },
          "yaxis": {
           "automargin": true,
           "gridcolor": "white",
           "linecolor": "white",
           "ticks": "",
           "title": {
            "standoff": 15
           },
           "zerolinecolor": "white",
           "zerolinewidth": 2
          }
         }
        },
        "title": {
         "text": "Scatter Plot of Predictions Over Time"
        },
        "xaxis": {
         "anchor": "y",
         "domain": [
          0,
          1
         ],
         "title": {
          "text": "Date"
         }
        },
        "yaxis": {
         "anchor": "x",
         "domain": [
          0,
          1
         ],
         "title": {
          "text": "Predicted Class"
         }
        }
       }
      }
     },
     "metadata": {},
     "output_type": "display_data"
    },
    {
     "name": "stdout",
     "output_type": "stream",
     "text": [
      "Prediction Accuracy: 95.52%\n"
     ]
    }
   ],
   "source": [
    "# Data Exploration\n",
    "print(df.info())  # Check the basic information of the dataset\n",
    "print(df.describe())  # Check statistical summary\n",
    "print(df.isnull().sum())  # Check for missing values\n",
    "\n",
    "# Data Cleaning\n",
    "df.fillna(method='ffill', inplace=True)  # Fill missing values with forward fill\n",
    "\n",
    "# Convert date fields\n",
    "df['Recall Initiation Date'] = pd.to_datetime(df['Recall Initiation Date'])\n",
    "\n",
    "# Create new features: year and month\n",
    "df['Year'] = df['Recall Initiation Date'].dt.year\n",
    "df['Month'] = df['Recall Initiation Date'].dt.month\n",
    "\n",
    "# Feature Selection and Processing\n",
    "from sklearn.preprocessing import LabelEncoder, StandardScaler\n",
    "\n",
    "# Encode categorical variables\n",
    "label_enc = LabelEncoder()\n",
    "df['State'] = label_enc.fit_transform(df['State'])\n",
    "df['Country'] = label_enc.fit_transform(df['Country'])\n",
    "\n",
    "# Map original class types to numbers and save mapping\n",
    "class_mapping = {'Class I': 0, 'Class II': 1, 'Class III': 2}\n",
    "reverse_mapping = {v: k for k, v in class_mapping.items()}\n",
    "\n",
    "df['Classification'] = df['Classification'].map(class_mapping)  # Encode target variable\n",
    "\n",
    "# Standardize numerical variables\n",
    "scaler = StandardScaler()\n",
    "df['Days To Classify'] = scaler.fit_transform(df[['Days To Classify']])\n",
    "\n",
    "# Select features and target variable\n",
    "X = df[['State', 'Country', 'Days To Classify', 'Year', 'Month']]\n",
    "y = df['Classification']\n",
    "\n",
    "# Split the dataset\n",
    "from sklearn.model_selection import train_test_split\n",
    "\n",
    "X_train, X_test, y_train, y_test = train_test_split(X, y, test_size=0.2, random_state=42)\n",
    "\n",
    "# Train the Model\n",
    "from sklearn.ensemble import RandomForestClassifier\n",
    "\n",
    "model = RandomForestClassifier(random_state=42)\n",
    "model.fit(X_train, y_train)\n",
    "\n",
    "# Predictions\n",
    "y_pred = model.predict(X_test)\n",
    "\n",
    "# Model Evaluation\n",
    "from sklearn.metrics import accuracy_score, classification_report, confusion_matrix\n",
    "import matplotlib.pyplot as plt\n",
    "import seaborn as sns\n",
    "\n",
    "# Calculate accuracy\n",
    "accuracy = accuracy_score(y_test, y_pred)\n",
    "print(f\"Accuracy: {accuracy:.2f}\")\n",
    "\n",
    "# Classification report\n",
    "print(classification_report(y_test, y_pred))\n",
    "\n",
    "# Confusion Matrix\n",
    "cm = confusion_matrix(y_test, y_pred)\n",
    "sns.heatmap(cm, annot=True, fmt='d', cmap='Blues', xticklabels=class_mapping.keys(), yticklabels=class_mapping.keys())\n",
    "plt.xlabel('Predicted')\n",
    "plt.ylabel('Actual')\n",
    "plt.title('Confusion Matrix')\n",
    "plt.show()\n",
    "\n",
    "# Hyperparameter Tuning\n",
    "from sklearn.model_selection import GridSearchCV\n",
    "\n",
    "param_grid = {\n",
    "    'n_estimators': [50, 100, 200],\n",
    "    'max_depth': [None, 10, 20],\n",
    "    'min_samples_split': [2, 5, 10]\n",
    "}\n",
    "grid_search = GridSearchCV(RandomForestClassifier(random_state=42), param_grid, cv=5, scoring='accuracy')\n",
    "grid_search.fit(X_train, y_train)\n",
    "\n",
    "# Output the best parameters\n",
    "print(f\"Best Parameters: {grid_search.best_params_}\")\n",
    "\n",
    "# Save the Model\n",
    "import joblib\n",
    "joblib.dump(model, 'classification_model.pkl')\n",
    "\n",
    "# Add predictions back to the dataframe with original class labels\n",
    "df['Prediction'] = model.predict(X)\n",
    "df['Prediction Label'] = df['Prediction'].map(reverse_mapping)\n",
    "df['Actual Label'] = df['Classification'].map(reverse_mapping)\n",
    "\n",
    "# Plot Line Chart for Predictions Over Time\n",
    "import plotly.express as px\n",
    "\n",
    "df['Prediction'] = model.predict(X)\n",
    "df['Prediction Label'] = df['Prediction'].map(reverse_mapping)  # Predict\n",
    "df['Actual Label'] = df['Classification'].map(reverse_mapping)  # Actual\n",
    "\n",
    "# Plot\n",
    "fig = px.scatter(\n",
    "    df.sort_values(by='Recall Initiation Date'),\n",
    "    x='Recall Initiation Date',\n",
    "    y='Prediction Label',\n",
    "    color='Actual Label',\n",
    "    title='Scatter Plot of Predictions Over Time',\n",
    "    labels={\n",
    "        'Prediction Label': 'Predicted Class',\n",
    "        'Actual Label': 'Actual Class',\n",
    "        'Recall Initiation Date': 'Date'\n",
    "    },\n",
    "    symbol='Actual Label',  \n",
    "    hover_data=['Actual Label', 'Prediction Label']  \n",
    ")\n",
    "\n",
    "fig.show()\n",
    "\n",
    "from sklearn.metrics import accuracy_score\n",
    "\n",
    "# Accurancy\n",
    "accuracy = accuracy_score(df['Classification'], df['Prediction'])\n",
    "print(f\"Prediction Accuracy: {accuracy:.2%}\")\n",
    "\n",
    "\n"
   ]
  }
 ],
 "metadata": {
  "kernelspec": {
   "display_name": "Python 3",
   "language": "python",
   "name": "python3"
  },
  "language_info": {
   "codemirror_mode": {
    "name": "ipython",
    "version": 3
   },
   "file_extension": ".py",
   "mimetype": "text/x-python",
   "name": "python",
   "nbconvert_exporter": "python",
   "pygments_lexer": "ipython3",
   "version": "3.12.4"
  }
 },
 "nbformat": 4,
 "nbformat_minor": 2
}
