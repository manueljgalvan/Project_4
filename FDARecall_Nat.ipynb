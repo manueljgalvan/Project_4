{
 "cells": [
  {
   "cell_type": "markdown",
   "metadata": {},
   "source": [
    "Creating an API connection to the FDA and pulling in the data to MongoDB"
   ]
  },
  {
   "cell_type": "code",
   "execution_count": 48,
   "metadata": {},
   "outputs": [],
   "source": [
    "import requests\n",
    "import pandas as pd\n",
    "from pymongo import MongoClient\n",
    "from datetime import datetime\n",
    "# import plotly.express as px\n",
    "# from geopy.geocoders import Nominatim\n",
    "# import time\n",
    "# import plotly.graph_objects as go\n",
    "# import seaborn as sns\n",
    "# import matplotlib.pyplot as plt\n",
    "# from ipywidgets import widgets\n",
    "# from IPython.display import display, clear_output\n",
    "# import ipywidgets as widgets\n",
    "# from ipywidgets import interact\n",
    "\n",
    "# Define the API endpoint and parameters\n",
    "url = \"https://api.fda.gov/food/enforcement.json?search=report_date:[20200101+TO+20241201]&limit=1000\"\n",
    "\n",
    "# Send a GET request to the API\n",
    "response = requests.get(url)\n",
    "\n",
    "if response.status_code == 200:\n",
    "    data = response.json()\n",
    "    recalls = data.get('results', [])\n",
    "    recall_df = pd.DataFrame(recalls)\n",
    "\n",
    "    # Convert DataFrame to dictionary format for MongoDB\n",
    "    recall_records = recall_df.to_dict(\"records\")\n",
    "\n",
    "    # Establish a connection to MongoDB\n",
    "    client = MongoClient('mongodb://localhost:27017/')  # Replace with your MongoDB connection string\n",
    "\n",
    "    # Access a database and collection\n",
    "    db = client[\"fda_data\"]  # Replace \"fda_data\" with your desired database name\n",
    "    collection = db[\"food_recalls\"]  # Replace \"food_recalls\" with your desired collection name\n",
    "\n",
    "    # Insert modified data into MongoDB\n",
    "    collection.insert_many(recall_records)\n",
    "\n",
    "else:\n",
    "    print(f\"Failed to retrieve data: {response.status_code}\")\n"
   ]
  },
  {
   "cell_type": "code",
   "execution_count": 49,
   "metadata": {},
   "outputs": [
    {
     "data": {
      "text/plain": [
       "1000"
      ]
     },
     "execution_count": 49,
     "metadata": {},
     "output_type": "execute_result"
    }
   ],
   "source": [
    "# Checking number of recoreds pulled in from the FDA\n",
    "num_records = len(recall_records)\n",
    "num_records "
   ]
  },
  {
   "cell_type": "markdown",
   "metadata": {},
   "source": [
    "Cleaning & Formating Data in MongoDB"
   ]
  },
  {
   "cell_type": "code",
   "execution_count": null,
   "metadata": {},
   "outputs": [
    {
     "data": {
      "text/plain": [
       "{'_id': ObjectId('674f2dc196072a4e67166562'),\n",
       " 'Address': '2610 Homestead Pl',\n",
       " 'Center Classification Date': datetime.datetime(2020, 4, 13, 0, 0),\n",
       " 'City': 'Rancho Dominguez',\n",
       " 'Classification': 'Class III',\n",
       " 'Country': 'United States',\n",
       " 'Postal Code': '90220-5610',\n",
       " 'Recall Firm': 'Organic By Nature, Inc.',\n",
       " 'Recall Initiation Date': datetime.datetime(2020, 2, 24, 0, 0),\n",
       " 'State': 'CA',\n",
       " 'Status': 'Terminated',\n",
       " 'Termination Date': datetime.datetime(2021, 2, 2, 0, 0),\n",
       " 'Days To Classify': 49}"
      ]
     },
     "execution_count": 50,
     "metadata": {},
     "output_type": "execute_result"
    }
   ],
   "source": [
    "####### CLEANING, FILTERING COLUMNS & HEADERS #######\n",
    "\n",
    "# Finding and droping all NaNs from the \"termination_date\" column \n",
    "collection.find({\"termination_date\": {\"$in\": [None, \"\", float(\"nan\")]}})\n",
    "collection.delete_many({\"termination_date\": {\"$in\": [None, float(\"nan\")]}})\n",
    "\n",
    "# Filter by 'United States' only and remove all other Countries\n",
    "collection.delete_many({\"country\": {\"$ne\": \"United States\"}})\n",
    "\n",
    "# Removing the columns not needed\n",
    "collection.update_many({}, {\"$unset\": {\"openfda\": \"\",\n",
    "                                       \"event_id\": \"\", \n",
    "                                       \"product_type\": \"\",\n",
    "                                       \"address_2\": \"\",                                           \n",
    "                                       \"voluntary_mandated\": \"\",\n",
    "                                       \"initial_firm_notification\": \"\",\n",
    "                                       \"distribution_pattern\": \"\",\n",
    "                                       \"recall_number\": \"\",\n",
    "                                       \"product_description\": \"\",\n",
    "                                       \"product_quantity\": \"\",\n",
    "                                       \"reason_for_recall\": \"\",\n",
    "                                       \"report_date\": \"\",\n",
    "                                       \"code_info\": \"\",\n",
    "                                       \"more_code_info\": \"\"\n",
    "                                       }}          \n",
    ")\n",
    "\n",
    "# Renaming the columns\n",
    "collection.update_many({}, {\"$rename\": {\"status\": \"Status\",\n",
    "                                        \"city\": \"City\",\n",
    "                                        \"state\": \"State\",\n",
    "                                        \"country\": \"Country\",\n",
    "                                        \"classification\": \"Classification\",\n",
    "                                        \"recalling_firm\": \"Recall Firm\",\n",
    "                                        \"address_1\": \"Address\",\n",
    "                                        \"postal_code\": \"Postal Code\",\n",
    "                                        \"recall_initiation_date\": \"Recall Initiation Date\",\n",
    "                                        \"center_classification_date\": \"Center Classification Date\",\n",
    "                                        \"termination_date\": \"Termination Date\"\n",
    "                                        }}\n",
    ")\n",
    "\n",
    "####### FORMATING DATE COLUMNS #######\n",
    "\n",
    "for date_field in [\"Center Classification Date\", \"Recall Initiation Date\", \"Termination Date\"]:\n",
    "    documents = collection.find({date_field: {\"$exists\": True}})\n",
    "    for doc in documents:\n",
    "        date_str = doc.get(date_field)\n",
    "        \n",
    "        # Check if the date_str is a valid string and is 8 digits long\n",
    "        if isinstance(date_str, str) and len(date_str) == 8 and date_str.isdigit():\n",
    "            try:\n",
    "                formatted_date = datetime.strptime(date_str, \"%Y%m%d\")\n",
    "                collection.update_one(\n",
    "                    {\"_id\": doc[\"_id\"]},\n",
    "                    {\"$set\": {date_field: formatted_date}}\n",
    "                )\n",
    "            except ValueError as e:\n",
    "                print(f\"Error parsing date for document ID {doc['_id']}: {e}\")\n",
    "        else:\n",
    "            # Log or handle cases where date_str is not a valid string or is not 8 digits long\n",
    "            print(f\"Skipping invalid date for document ID {doc['_id']}: {date_str}\")\n",
    "\n",
    "\n",
    "####### CALCULATING DAYS FOR CLASSIFICATION #######\n",
    "\n",
    "# Adding new column for days it to to classify and calculating its value\n",
    "new_column = \"Days To Classify\"\n",
    "\n",
    "for document in collection.find():\n",
    "    start_date = document.get(\"Recall Initiation Date\")\n",
    "    end_date = document.get(\"Center Classification Date\")\n",
    "    \n",
    "    if start_date and end_date:\n",
    "        new_column_value = (end_date - start_date).days\n",
    "        collection.update_one(\n",
    "            {\"_id\": document[\"_id\"]},\n",
    "            {\"$set\": {\"Days To Classify\": new_column_value}}\n",
    "        )\n",
    "\n",
    "collection.find_one()"
   ]
  },
  {
   "cell_type": "code",
   "execution_count": 53,
   "metadata": {},
   "outputs": [
    {
     "data": {
      "text/plain": [
       "848"
      ]
     },
     "execution_count": 53,
     "metadata": {},
     "output_type": "execute_result"
    }
   ],
   "source": [
    "# Query data back from MongoDB\n",
    "recalls_from_db = list(collection.find())\n",
    "\n",
    "# Convert back to DataFrame if needed\n",
    "db_df = pd.DataFrame(recalls_from_db)\n",
    "\n",
    "#unique_values = db_df['_id'].unique()\n",
    "#unique_values = db_df['Country'].unique()\n",
    "#unique_values = db_df['Days To Classify'].unique()\n",
    "#unique_values = db_df['Termination Date'].unique()\n",
    "#unique_values = db_df['Classification'].unique()\n",
    "\n",
    "#unique_values\n",
    "\n",
    "# Checking number of recoreds remaining after clean up\n",
    "clean_records = len(db_df)\n",
    "clean_records"
   ]
  }
 ],
 "metadata": {
  "kernelspec": {
   "display_name": "base",
   "language": "python",
   "name": "python3"
  },
  "language_info": {
   "codemirror_mode": {
    "name": "ipython",
    "version": 3
   },
   "file_extension": ".py",
   "mimetype": "text/x-python",
   "name": "python",
   "nbconvert_exporter": "python",
   "pygments_lexer": "ipython3",
   "version": "3.11.7"
  }
 },
 "nbformat": 4,
 "nbformat_minor": 2
}
