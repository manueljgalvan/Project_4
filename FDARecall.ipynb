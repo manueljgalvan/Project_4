{
 "cells": [
  {
   "cell_type": "code",
   "execution_count": 74,
   "metadata": {},
   "outputs": [
    {
     "name": "stdout",
     "output_type": "stream",
     "text": [
      "Data inserted into MongoDB successfully.\n"
     ]
    }
   ],
   "source": [
    "import requests\n",
    "import pandas as pd\n",
    "from pymongo import MongoClient\n",
    "# from datetime import datetime\n",
    "# import plotly.express as px\n",
    "# from geopy.geocoders import Nominatim\n",
    "# import time\n",
    "# import plotly.graph_objects as go\n",
    "# import seaborn as sns\n",
    "# import matplotlib.pyplot as plt\n",
    "# from ipywidgets import widgets\n",
    "# from IPython.display import display, clear_output\n",
    "# import ipywidgets as widgets\n",
    "# from ipywidgets import interact\n",
    "\n",
    "# Define the API endpoint and parameters\n",
    "url = \"https://api.fda.gov/food/enforcement.json?search=report_date:[20200101+TO+20241201]&limit=1000\"\n",
    "\n",
    "# Send a GET request to the API\n",
    "response = requests.get(url)\n",
    "\n",
    "if response.status_code == 200:\n",
    "    data = response.json()\n",
    "    recalls = data.get('results', [])\n",
    "    recall_df = pd.DataFrame(recalls)\n",
    "   \n",
    "    # Capitalize the first letter of each column name\n",
    "    recall_df.columns = [col.capitalize() for col in recall_df.columns]\n",
    "\n",
    "# Establish a connection to MongoDB\n",
    "client = MongoClient(\"mongodb://localhost:27017/\")  # Replace with your MongoDB connection string\n",
    "\n",
    "# Access a database and collection\n",
    "db = client[\"fda_data\"]  # Replace \"fda_data\" with your desired database name\n",
    "collection = db[\"food_recalls\"]  # Replace \"food_recalls\" with your desired collection name\n",
    "\n",
    "collection.update_many({}, {\"$unset\": {\"Openfda\": \"\",\n",
    "                                       \"Event_id\": \"\",\n",
    "                                       \"Product_type\": \"\",\n",
    "                                       \"Address_2\": \"\",\n",
    "                                       \"Voluntary_mandated\": \"\",\n",
    "                                       \"Initial_firm_notification\": \"\",\n",
    "                                       \"Distribution_pattern\": \"\",\n",
    "                                       \"Recall_number\": \"\",\n",
    "                                       \"Product_description\": \"\",\n",
    "                                       \"Product_quantity\": \"\",\n",
    "                                       \"Reason_for_recall\": \"\",\n",
    "                                       \"Report_date\": \"\",\n",
    "                                       \"Code_info\": \"\",\n",
    "                                       \"More_code_info\": \"\"\n",
    "                                       }}          \n",
    "                        )\n",
    "\n",
    "# Rename the column \"Recall_firm\" to \"Recall Firm\"\n",
    "collection.update_many({}, {\"$rename\": {\"Recalling_firm\": \"Recall Firm\",\n",
    "                                        \"Address_1\": \"Address\",\n",
    "                                        \"Postal_code\": \"Postal Code\",\n",
    "                                        \"Recall_initiation_date\": \"Recall Initiation Date\",\n",
    "                                        \"Center_classification_date\": \"Center Classification Date\",\n",
    "                                        \"Termination_date\": \"Termination Date\"\n",
    "                                        }}\n",
    "                        )\n",
    "\n",
    "\n",
    "print(\"Data inserted into MongoDB successfully.\")"
   ]
  },
  {
   "cell_type": "code",
   "execution_count": 75,
   "metadata": {},
   "outputs": [
    {
     "data": {
      "text/plain": [
       "{'_id': ObjectId('674e6b4c50435708eeae1780'),\n",
       " 'Status': 'Terminated',\n",
       " 'City': 'Rancho Dominguez',\n",
       " 'State': 'CA',\n",
       " 'Country': 'United States',\n",
       " 'Classification': 'Class III',\n",
       " 'Recall Firm': 'Organic By Nature, Inc.',\n",
       " 'Address': '2610 Homestead Pl',\n",
       " 'Postal Code': '90220-5610',\n",
       " 'Center Classification Date': '20200413',\n",
       " 'Recall Initiation Date': '20200224',\n",
       " 'Termination Date': '20210202'}"
      ]
     },
     "execution_count": 75,
     "metadata": {},
     "output_type": "execute_result"
    }
   ],
   "source": [
    "collection.find_one()"
   ]
  }
 ],
 "metadata": {
  "kernelspec": {
   "display_name": "base",
   "language": "python",
   "name": "python3"
  },
  "language_info": {
   "codemirror_mode": {
    "name": "ipython",
    "version": 3
   },
   "file_extension": ".py",
   "mimetype": "text/x-python",
   "name": "python",
   "nbconvert_exporter": "python",
   "pygments_lexer": "ipython3",
   "version": "3.12.4"
  }
 },
 "nbformat": 4,
 "nbformat_minor": 2
}
