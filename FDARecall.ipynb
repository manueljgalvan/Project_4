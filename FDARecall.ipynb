{
 "cells": [
  {
   "cell_type": "markdown",
   "metadata": {},
   "source": [
    "Creating an API connection to the FDA and pulling in the data to MongoDB"
   ]
  },
  {
   "cell_type": "code",
   "execution_count": null,
   "metadata": {},
   "outputs": [],
   "source": [
    "import requests\n",
    "import pandas as pd\n",
    "from pymongo import MongoClient\n",
    "from datetime import datetime\n",
    "import numpy as np\n",
    "import matplotlib.pyplot as plt\n",
    "from sklearn.model_selection import train_test_split\n",
    "from sklearn.preprocessing import OneHotEncoder\n",
    "from sklearn.ensemble import RandomForestRegressor\n",
    "from sklearn.metrics import mean_absolute_error, mean_squared_error, r2_score\n",
    "\n",
    "\n",
    "# Define the API endpoint and parameters\n",
    "url = \"https://api.fda.gov/food/enforcement.json?search=report_date:[20200101+TO+20241201]&limit=1000\"\n",
    "\n",
    "# Send a GET request to the API\n",
    "response = requests.get(url)\n",
    "\n",
    "if response.status_code == 200:\n",
    "    data = response.json()\n",
    "    recalls = data.get('results', [])\n",
    "    recall_df = pd.DataFrame(recalls)\n",
    "\n",
    "    # Convert DataFrame to dictionary format for MongoDB\n",
    "    recall_records = recall_df.to_dict(\"records\")\n",
    "\n",
    "    # Establish a connection to MongoDB\n",
    "    client = MongoClient('mongodb://localhost:27017/')  # Replace with your MongoDB connection string\n",
    "\n",
    "    # Access a database and collection\n",
    "    db = client[\"fda_data\"]  # Replace \"fda_data\" with your desired database name\n",
    "    collection = db[\"food_recalls\"]  # Replace \"food_recalls\" with your desired collection name\n",
    "\n",
    "    # Insert modified data into MongoDB\n",
    "    collection.insert_many(recall_records)\n",
    "\n",
    "else:\n",
    "    print(f\"Failed to retrieve data: {response.status_code}\")\n"
   ]
  },
  {
   "cell_type": "code",
   "execution_count": 3,
   "metadata": {},
   "outputs": [
    {
     "data": {
      "text/plain": [
       "1000"
      ]
     },
     "execution_count": 3,
     "metadata": {},
     "output_type": "execute_result"
    }
   ],
   "source": [
    "# Checking number of recoreds pulled in from the FDA\n",
    "num_records = len(recall_records)\n",
    "num_records "
   ]
  },
  {
   "cell_type": "markdown",
   "metadata": {},
   "source": [
    "Cleaning & Formating Data in MongoDB"
   ]
  },
  {
   "cell_type": "code",
   "execution_count": 4,
   "metadata": {},
   "outputs": [
    {
     "data": {
      "text/plain": [
       "{'_id': ObjectId('67579303b573cb028daaa71c'),\n",
       " 'Address': '2610 Homestead Pl',\n",
       " 'Center Classification Date': datetime.datetime(2020, 4, 13, 0, 0),\n",
       " 'City': 'Rancho Dominguez',\n",
       " 'Classification': 'Class III',\n",
       " 'Country': 'United States',\n",
       " 'Postal Code': '90220-5610',\n",
       " 'Recall Firm': 'Organic By Nature, Inc.',\n",
       " 'Recall Initiation Date': datetime.datetime(2020, 2, 24, 0, 0),\n",
       " 'State': 'CA',\n",
       " 'Status': 'Terminated',\n",
       " 'Termination Date': datetime.datetime(2021, 2, 2, 0, 0),\n",
       " 'Days To Classify': 49}"
      ]
     },
     "execution_count": 4,
     "metadata": {},
     "output_type": "execute_result"
    }
   ],
   "source": [
    "####### CLEANING, FILTERING COLUMNS & HEADERS #######\n",
    "\n",
    "# Finding and droping all NaNs from the \"termination_date\" column \n",
    "collection.find({\"termination_date\": {\"$in\": [None, \"\", float(\"nan\")]}})\n",
    "collection.delete_many({\"termination_date\": {\"$in\": [None, float(\"nan\")]}})\n",
    "\n",
    "# Filter by 'United States' only and remove all other Countries\n",
    "collection.delete_many({\"country\": {\"$ne\": \"United States\"}})\n",
    "\n",
    "# Removing the columns not needed\n",
    "collection.update_many({}, {\"$unset\": {\"openfda\": \"\",\n",
    "                                       \"event_id\": \"\", \n",
    "                                       \"product_type\": \"\",\n",
    "                                       \"address_2\": \"\",                                           \n",
    "                                       \"voluntary_mandated\": \"\",\n",
    "                                       \"initial_firm_notification\": \"\",\n",
    "                                       \"distribution_pattern\": \"\",\n",
    "                                       \"recall_number\": \"\",\n",
    "                                       \"product_description\": \"\",\n",
    "                                       \"product_quantity\": \"\",\n",
    "                                       \"reason_for_recall\": \"\",\n",
    "                                       \"report_date\": \"\",\n",
    "                                       \"code_info\": \"\",\n",
    "                                       \"more_code_info\": \"\"\n",
    "                                       }}          \n",
    ")\n",
    "\n",
    "# Renaming the columns\n",
    "collection.update_many({}, {\"$rename\": {\"status\": \"Status\",\n",
    "                                        \"city\": \"City\",\n",
    "                                        \"state\": \"State\",\n",
    "                                        \"country\": \"Country\",\n",
    "                                        \"classification\": \"Classification\",\n",
    "                                        \"recalling_firm\": \"Recall Firm\",\n",
    "                                        \"address_1\": \"Address\",\n",
    "                                        \"postal_code\": \"Postal Code\",\n",
    "                                        \"recall_initiation_date\": \"Recall Initiation Date\",\n",
    "                                        \"center_classification_date\": \"Center Classification Date\",\n",
    "                                        \"termination_date\": \"Termination Date\"\n",
    "                                        }}\n",
    ")\n",
    "\n",
    "####### FORMATING DATE COLUMNS #######\n",
    "\n",
    "for date_field in [\"Center Classification Date\", \"Recall Initiation Date\", \"Termination Date\"]:\n",
    "    documents = collection.find({date_field: {\"$exists\": True}})\n",
    "    for doc in documents:\n",
    "        date_str = doc.get(date_field)\n",
    "        \n",
    "        # Check if the date_str is a valid string and is 8 digits long\n",
    "        if isinstance(date_str, str) and len(date_str) == 8 and date_str.isdigit():\n",
    "            try:\n",
    "                formatted_date = datetime.strptime(date_str, \"%Y%m%d\")\n",
    "                collection.update_one(\n",
    "                    {\"_id\": doc[\"_id\"]},\n",
    "                    {\"$set\": {date_field: formatted_date}}\n",
    "                )\n",
    "            except ValueError as e:\n",
    "                print(f\"Error parsing date for document ID {doc['_id']}: {e}\")\n",
    "        else:\n",
    "            # Log or handle cases where date_str is not a valid string or is not 8 digits long\n",
    "            print(f\"Skipping invalid date for document ID {doc['_id']}: {date_str}\")\n",
    "\n",
    "\n",
    "####### CALCULATING DAYS FOR CLASSIFICATION #######\n",
    "\n",
    "# Adding new column for days it to to classify and calculating its value\n",
    "new_column = \"Days To Classify\"\n",
    "\n",
    "for document in collection.find():\n",
    "    start_date = document.get(\"Recall Initiation Date\")\n",
    "    end_date = document.get(\"Center Classification Date\")\n",
    "    \n",
    "    if start_date and end_date:\n",
    "        new_column_value = (end_date - start_date).days\n",
    "        collection.update_one(\n",
    "            {\"_id\": document[\"_id\"]},\n",
    "            {\"$set\": {\"Days To Classify\": new_column_value}}\n",
    "        )\n",
    "\n",
    "collection.find_one()"
   ]
  },
  {
   "cell_type": "code",
   "execution_count": 5,
   "metadata": {},
   "outputs": [
    {
     "data": {
      "text/plain": [
       "848"
      ]
     },
     "execution_count": 5,
     "metadata": {},
     "output_type": "execute_result"
    }
   ],
   "source": [
    "# Query data back from MongoDB to a Data Frame\n",
    "recalls_from_db = list(collection.find())\n",
    "\n",
    "# Convert back to DataFrame if needed\n",
    "db_df = pd.DataFrame(recalls_from_db)\n",
    "\n",
    "# Checking number of recoreds remaining after clean up\n",
    "clean_records = len(db_df)\n",
    "clean_records"
   ]
  },
  {
   "cell_type": "code",
   "execution_count": 6,
   "metadata": {},
   "outputs": [],
   "source": [
    "db_df.to_csv('clean_records.csv', index=False)"
   ]
  },
  {
   "cell_type": "code",
   "execution_count": 7,
   "metadata": {},
   "outputs": [
    {
     "data": {
      "text/html": [
       "<div>\n",
       "<style scoped>\n",
       "    .dataframe tbody tr th:only-of-type {\n",
       "        vertical-align: middle;\n",
       "    }\n",
       "\n",
       "    .dataframe tbody tr th {\n",
       "        vertical-align: top;\n",
       "    }\n",
       "\n",
       "    .dataframe thead th {\n",
       "        text-align: right;\n",
       "    }\n",
       "</style>\n",
       "<table border=\"1\" class=\"dataframe\">\n",
       "  <thead>\n",
       "    <tr style=\"text-align: right;\">\n",
       "      <th></th>\n",
       "      <th>_id</th>\n",
       "      <th>Address</th>\n",
       "      <th>Center Classification Date</th>\n",
       "      <th>City</th>\n",
       "      <th>Classification</th>\n",
       "      <th>Country</th>\n",
       "      <th>Postal Code</th>\n",
       "      <th>Recall Firm</th>\n",
       "      <th>Recall Initiation Date</th>\n",
       "      <th>State</th>\n",
       "      <th>Status</th>\n",
       "      <th>Termination Date</th>\n",
       "      <th>Days To Classify</th>\n",
       "    </tr>\n",
       "  </thead>\n",
       "  <tbody>\n",
       "    <tr>\n",
       "      <th>0</th>\n",
       "      <td>67579303b573cb028daaa71c</td>\n",
       "      <td>2610 Homestead Pl</td>\n",
       "      <td>2020-04-13</td>\n",
       "      <td>Rancho Dominguez</td>\n",
       "      <td>Class III</td>\n",
       "      <td>United States</td>\n",
       "      <td>90220-5610</td>\n",
       "      <td>Organic By Nature, Inc.</td>\n",
       "      <td>2020-02-24</td>\n",
       "      <td>CA</td>\n",
       "      <td>Terminated</td>\n",
       "      <td>2021-02-02</td>\n",
       "      <td>49</td>\n",
       "    </tr>\n",
       "    <tr>\n",
       "      <th>1</th>\n",
       "      <td>67579303b573cb028daaa71d</td>\n",
       "      <td>47 Bridgewater St # 57</td>\n",
       "      <td>2020-04-24</td>\n",
       "      <td>Brooklyn</td>\n",
       "      <td>Class III</td>\n",
       "      <td>United States</td>\n",
       "      <td>11222-3820</td>\n",
       "      <td>Rong Shing Trading NY Inc</td>\n",
       "      <td>2020-04-01</td>\n",
       "      <td>NY</td>\n",
       "      <td>Terminated</td>\n",
       "      <td>2021-03-18</td>\n",
       "      <td>23</td>\n",
       "    </tr>\n",
       "    <tr>\n",
       "      <th>2</th>\n",
       "      <td>67579303b573cb028daaa71e</td>\n",
       "      <td>2959 Salinas Hwy</td>\n",
       "      <td>2022-02-22</td>\n",
       "      <td>Monterey</td>\n",
       "      <td>Class I</td>\n",
       "      <td>United States</td>\n",
       "      <td>93940-6400</td>\n",
       "      <td>Dole Fresh Vegetables Inc</td>\n",
       "      <td>2022-01-06</td>\n",
       "      <td>CA</td>\n",
       "      <td>Terminated</td>\n",
       "      <td>2022-03-22</td>\n",
       "      <td>47</td>\n",
       "    </tr>\n",
       "    <tr>\n",
       "      <th>3</th>\n",
       "      <td>67579303b573cb028daaa71f</td>\n",
       "      <td>262 E Main St</td>\n",
       "      <td>2022-07-19</td>\n",
       "      <td>Lovell</td>\n",
       "      <td>Class II</td>\n",
       "      <td>United States</td>\n",
       "      <td>82431-2102</td>\n",
       "      <td>Queen Bee Gardens, LLC</td>\n",
       "      <td>2022-04-28</td>\n",
       "      <td>WY</td>\n",
       "      <td>Terminated</td>\n",
       "      <td>2023-01-17</td>\n",
       "      <td>82</td>\n",
       "    </tr>\n",
       "    <tr>\n",
       "      <th>4</th>\n",
       "      <td>67579303b573cb028daaa723</td>\n",
       "      <td>1700 E Stroop Rd</td>\n",
       "      <td>2023-08-02</td>\n",
       "      <td>Dayton</td>\n",
       "      <td>Class II</td>\n",
       "      <td>United States</td>\n",
       "      <td>45429-5040</td>\n",
       "      <td>Cassanos Inc</td>\n",
       "      <td>2023-07-18</td>\n",
       "      <td>OH</td>\n",
       "      <td>Terminated</td>\n",
       "      <td>2023-09-27</td>\n",
       "      <td>15</td>\n",
       "    </tr>\n",
       "  </tbody>\n",
       "</table>\n",
       "</div>"
      ],
      "text/plain": [
       "                        _id                 Address  \\\n",
       "0  67579303b573cb028daaa71c       2610 Homestead Pl   \n",
       "1  67579303b573cb028daaa71d  47 Bridgewater St # 57   \n",
       "2  67579303b573cb028daaa71e        2959 Salinas Hwy   \n",
       "3  67579303b573cb028daaa71f           262 E Main St   \n",
       "4  67579303b573cb028daaa723        1700 E Stroop Rd   \n",
       "\n",
       "  Center Classification Date              City Classification        Country  \\\n",
       "0                 2020-04-13  Rancho Dominguez      Class III  United States   \n",
       "1                 2020-04-24          Brooklyn      Class III  United States   \n",
       "2                 2022-02-22          Monterey        Class I  United States   \n",
       "3                 2022-07-19            Lovell       Class II  United States   \n",
       "4                 2023-08-02            Dayton       Class II  United States   \n",
       "\n",
       "  Postal Code                Recall Firm Recall Initiation Date State  \\\n",
       "0  90220-5610    Organic By Nature, Inc.             2020-02-24    CA   \n",
       "1  11222-3820  Rong Shing Trading NY Inc             2020-04-01    NY   \n",
       "2  93940-6400  Dole Fresh Vegetables Inc             2022-01-06    CA   \n",
       "3  82431-2102     Queen Bee Gardens, LLC             2022-04-28    WY   \n",
       "4  45429-5040               Cassanos Inc             2023-07-18    OH   \n",
       "\n",
       "       Status Termination Date  Days To Classify  \n",
       "0  Terminated       2021-02-02                49  \n",
       "1  Terminated       2021-03-18                23  \n",
       "2  Terminated       2022-03-22                47  \n",
       "3  Terminated       2023-01-17                82  \n",
       "4  Terminated       2023-09-27                15  "
      ]
     },
     "execution_count": 7,
     "metadata": {},
     "output_type": "execute_result"
    }
   ],
   "source": [
    "# Load the dataset\n",
    "file_path = 'clean_records.csv'  \n",
    "df = pd.read_csv(file_path)\n",
    "\n",
    "# Display the first few rows of the dataset\n",
    "df.head()"
   ]
  },
  {
   "cell_type": "code",
   "execution_count": 8,
   "metadata": {},
   "outputs": [
    {
     "data": {
      "text/html": [
       "<div>\n",
       "<style scoped>\n",
       "    .dataframe tbody tr th:only-of-type {\n",
       "        vertical-align: middle;\n",
       "    }\n",
       "\n",
       "    .dataframe tbody tr th {\n",
       "        vertical-align: top;\n",
       "    }\n",
       "\n",
       "    .dataframe thead th {\n",
       "        text-align: right;\n",
       "    }\n",
       "</style>\n",
       "<table border=\"1\" class=\"dataframe\">\n",
       "  <thead>\n",
       "    <tr style=\"text-align: right;\">\n",
       "      <th></th>\n",
       "      <th>Classification</th>\n",
       "      <th>Country</th>\n",
       "      <th>State</th>\n",
       "      <th>Days To Classify</th>\n",
       "    </tr>\n",
       "  </thead>\n",
       "  <tbody>\n",
       "    <tr>\n",
       "      <th>0</th>\n",
       "      <td>Class III</td>\n",
       "      <td>United States</td>\n",
       "      <td>CA</td>\n",
       "      <td>49</td>\n",
       "    </tr>\n",
       "    <tr>\n",
       "      <th>1</th>\n",
       "      <td>Class III</td>\n",
       "      <td>United States</td>\n",
       "      <td>NY</td>\n",
       "      <td>23</td>\n",
       "    </tr>\n",
       "    <tr>\n",
       "      <th>2</th>\n",
       "      <td>Class I</td>\n",
       "      <td>United States</td>\n",
       "      <td>CA</td>\n",
       "      <td>47</td>\n",
       "    </tr>\n",
       "    <tr>\n",
       "      <th>3</th>\n",
       "      <td>Class II</td>\n",
       "      <td>United States</td>\n",
       "      <td>WY</td>\n",
       "      <td>82</td>\n",
       "    </tr>\n",
       "    <tr>\n",
       "      <th>4</th>\n",
       "      <td>Class II</td>\n",
       "      <td>United States</td>\n",
       "      <td>OH</td>\n",
       "      <td>15</td>\n",
       "    </tr>\n",
       "  </tbody>\n",
       "</table>\n",
       "</div>"
      ],
      "text/plain": [
       "  Classification        Country State  Days To Classify\n",
       "0      Class III  United States    CA                49\n",
       "1      Class III  United States    NY                23\n",
       "2        Class I  United States    CA                47\n",
       "3       Class II  United States    WY                82\n",
       "4       Class II  United States    OH                15"
      ]
     },
     "execution_count": 8,
     "metadata": {},
     "output_type": "execute_result"
    }
   ],
   "source": [
    "# Data Preparation\n",
    "\n",
    "# Convert date columns to datetime\n",
    "df['Center Classification Date'] = pd.to_datetime(df['Center Classification Date'], errors='coerce')\n",
    "df['Termination Date'] = pd.to_datetime(df['Termination Date'], errors='coerce')\n",
    "\n",
    "# Compute the target variable: how many days the recall lasted\n",
    "df['Days_Outstanding'] = (df['Termination Date'] - df['Center Classification Date']).dt.days\n",
    "\n",
    "# Select features and target\n",
    "features = ['Classification', 'Country', 'State', 'Days To Classify']\n",
    "X = df[features]\n",
    "y = df['Days_Outstanding']\n",
    "\n",
    "\n",
    "X.head()"
   ]
  },
  {
   "cell_type": "code",
   "execution_count": 11,
   "metadata": {},
   "outputs": [
    {
     "data": {
      "text/plain": [
       "(848, 50)"
      ]
     },
     "execution_count": 11,
     "metadata": {},
     "output_type": "execute_result"
    }
   ],
   "source": [
    "# Encoding Categorical Variables\n",
    "\n",
    "categorical_cols = ['Classification', 'Country', 'State']\n",
    "numeric_cols = ['Days To Classify']\n",
    "\n",
    "# Create the OneHotEncoder, ensuring output is dense (non-sparse array)\n",
    "encoder = OneHotEncoder(handle_unknown='ignore', sparse_output=False)\n",
    "\n",
    "# Fit the encoder on categorical columns and transform\n",
    "X_cat = encoder.fit_transform(X[categorical_cols])\n",
    "\n",
    "# Extract numeric features as a NumPy array\n",
    "X_num = X[numeric_cols].values\n",
    "\n",
    "# Combine encoded categorical features and numeric features\n",
    "X_prepared = np.hstack([X_cat, X_num])\n",
    "\n",
    "X_prepared.shape"
   ]
  },
  {
   "cell_type": "code",
   "execution_count": 12,
   "metadata": {},
   "outputs": [
    {
     "data": {
      "text/plain": [
       "((678, 50), (170, 50))"
      ]
     },
     "execution_count": 12,
     "metadata": {},
     "output_type": "execute_result"
    }
   ],
   "source": [
    "# Train/Test Split\n",
    "X_train, X_test, y_train, y_test = train_test_split(X_prepared, y, test_size=0.2, random_state=42)\n",
    "\n",
    "X_train.shape, X_test.shape"
   ]
  },
  {
   "cell_type": "code",
   "execution_count": 13,
   "metadata": {},
   "outputs": [],
   "source": [
    "# Model Training\n",
    "\n",
    "# Initialize the Random Forest Regressor\n",
    "model = RandomForestRegressor(n_estimators=100, random_state=42)\n",
    "\n",
    "# Fit the model on the training data\n",
    "model.fit(X_train, y_train)\n",
    "\n",
    "# Predict on the test set\n",
    "y_pred = model.predict(X_test)"
   ]
  },
  {
   "cell_type": "code",
   "execution_count": 14,
   "metadata": {},
   "outputs": [
    {
     "name": "stdout",
     "output_type": "stream",
     "text": [
      "Mean Absolute Error (MAE): 57.399407179421885\n",
      "Root Mean Squared Error (RMSE): 113.23933178297544\n",
      "R2 Score: 0.66181594985805\n"
     ]
    }
   ],
   "source": [
    "# Model Evaluation\n",
    "\n",
    "# Calculate MAE\n",
    "mae = mean_absolute_error(y_test, y_pred)\n",
    "\n",
    "# Calculate MSE and then RMSE\n",
    "mse = mean_squared_error(y_test, y_pred)\n",
    "rmse = np.sqrt(mse)\n",
    "\n",
    "# Calculate R2 Score\n",
    "r2 = r2_score(y_test, y_pred)\n",
    "\n",
    "# Print the metrics\n",
    "print(\"Mean Absolute Error (MAE):\", mae)\n",
    "print(\"Root Mean Squared Error (RMSE):\", rmse)\n",
    "print(\"R2 Score:\", r2)"
   ]
  },
  {
   "cell_type": "code",
   "execution_count": 15,
   "metadata": {},
   "outputs": [
    {
     "data": {
      "image/png": "[encoded data removed]",
      "text/plain": [
       "<Figure size 1000x600 with 1 Axes>"
      ]
     },
     "metadata": {},
     "output_type": "display_data"
    }
   ],
   "source": [
    "# Plot actual vs predicted durations\n",
    "plt.figure(figsize=(10, 6))\n",
    "plt.scatter(y_test, y_pred, alpha=0.5)\n",
    "plt.plot([y_test.min(), y_test.max()],\n",
    "         [y_test.min(), y_test.max()],\n",
    "         'r--', lw=2)  # \n",
    "plt.xlabel('Actual Duration')\n",
    "plt.ylabel('Predicted Duration')\n",
    "plt.title('Actual vs Predicted Duration')\n",
    "plt.show()"
   ]
  }
 ],
 "metadata": {
  "kernelspec": {
   "display_name": "base",
   "language": "python",
   "name": "python3"
  },
  "language_info": {
   "codemirror_mode": {
    "name": "ipython",
    "version": 3
   },
   "file_extension": ".py",
   "mimetype": "text/x-python",
   "name": "python",
   "nbconvert_exporter": "python",
   "pygments_lexer": "ipython3",
   "version": "3.12.4"
  }
 },
 "nbformat": 4,
 "nbformat_minor": 2
}
